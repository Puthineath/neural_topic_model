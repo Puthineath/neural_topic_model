{
 "cells": [
  {
   "cell_type": "markdown",
   "metadata": {
    "collapsed": true,
    "pycharm": {
     "name": "#%% md\n"
    }
   },
   "source": [
    "# Topic Modeling Using LDA Bag of Word\n",
    "We use the following function to clean our texts and return a list of tokens:"
   ],
   "outputs": [
    {
     "ename": "SyntaxError",
     "evalue": "invalid syntax (<ipython-input-1-f5f0a73a1088>, line 1)",
     "output_type": "error",
     "traceback": [
      "\u001B[1;36m  File \u001B[1;32m\"<ipython-input-1-f5f0a73a1088>\"\u001B[1;36m, line \u001B[1;32m1\u001B[0m\n\u001B[1;33m    We use the following function to clean our texts and return a list of tokens:\u001B[0m\n\u001B[1;37m       ^\u001B[0m\n\u001B[1;31mSyntaxError\u001B[0m\u001B[1;31m:\u001B[0m invalid syntax\n"
     ]
    }
   ],
   "execution_count": 1
  },
  {
   "cell_type": "code",
   "execution_count": 5,
   "outputs": [],
   "source": [
    "from pprint import pprint\n",
    "import spacy\n",
    "# spacy.load('en')\n"
   ],
   "metadata": {
    "collapsed": false,
    "pycharm": {
     "name": "#%%\n"
    }
   }
  },
  {
   "cell_type": "code",
   "execution_count": 72,
   "outputs": [
    {
     "name": "stderr",
     "output_type": "stream",
     "text": [
      "C:\\Users\\salbo\\miniconda3\\envs\\multi_class\\lib\\site-packages\\ipykernel\\ipkernel.py:287: DeprecationWarning: `should_run_async` will not call `transform_cell` automatically in the future. Please pass the result to `transformed_cell` argument and any exception that happen during thetransform in `preprocessing_exc_tuple` in IPython 7.17 and above.\n",
      "  and should_run_async(code)\n"
     ]
    }
   ],
   "source": [
    "from gensim.models import CoherenceModel\n",
    "from spacy.lang.en import English\n",
    "parser = English()\n",
    "def tokenize(text):\n",
    "    lda_tokens = []\n",
    "    tokens = parser(text)\n",
    "    for token in tokens:\n",
    "        if token.orth_.isspace():\n",
    "            continue\n",
    "        elif token.like_url:\n",
    "            lda_tokens.append('URL')\n",
    "        elif token.orth_.startswith('@'):\n",
    "            lda_tokens.append('SCREEN_NAME')\n",
    "        else:\n",
    "            lda_tokens.append(token.lower_)\n",
    "    return lda_tokens"
   ],
   "metadata": {
    "collapsed": false,
    "pycharm": {
     "name": "#%%\n"
    }
   }
  },
  {
   "cell_type": "markdown",
   "source": [
    "We use NLTK’s Wordnet to find the meanings of words, synonyms, antonyms, and more. In addition, we use WordNetLemmatizer to get the root word."
   ],
   "metadata": {
    "collapsed": false
   }
  },
  {
   "cell_type": "code",
   "execution_count": 28,
   "outputs": [
    {
     "name": "stderr",
     "output_type": "stream",
     "text": [
      "C:\\Users\\salbo\\miniconda3\\envs\\multi_class\\lib\\site-packages\\ipykernel\\ipkernel.py:287: DeprecationWarning: `should_run_async` will not call `transform_cell` automatically in the future. Please pass the result to `transformed_cell` argument and any exception that happen during thetransform in `preprocessing_exc_tuple` in IPython 7.17 and above.\n",
      "  and should_run_async(code)\n",
      "[nltk_data] Downloading package wordnet to\n",
      "[nltk_data]     C:\\Users\\salbo\\AppData\\Roaming\\nltk_data...\n",
      "[nltk_data]   Package wordnet is already up-to-date!\n"
     ]
    }
   ],
   "source": [
    "import nltk\n",
    "nltk.download('wordnet')\n",
    "from nltk.corpus import wordnet as wn\n",
    "def get_lemma(word):\n",
    "    lemma = wn.morphy(word)\n",
    "    if lemma is None:\n",
    "        return word\n",
    "    else:\n",
    "        return lemma\n",
    "\n",
    "from nltk.stem.wordnet import WordNetLemmatizer\n",
    "def get_lemma2(word):\n",
    "    return WordNetLemmatizer().lemmatize(word)"
   ],
   "metadata": {
    "collapsed": false,
    "pycharm": {
     "name": "#%%\n"
    }
   }
  },
  {
   "cell_type": "markdown",
   "source": [
    "Filter out stop words:"
   ],
   "metadata": {
    "collapsed": false
   }
  },
  {
   "cell_type": "code",
   "execution_count": 67,
   "outputs": [
    {
     "name": "stderr",
     "output_type": "stream",
     "text": [
      "C:\\Users\\salbo\\miniconda3\\envs\\multi_class\\lib\\site-packages\\ipykernel\\ipkernel.py:287: DeprecationWarning: `should_run_async` will not call `transform_cell` automatically in the future. Please pass the result to `transformed_cell` argument and any exception that happen during thetransform in `preprocessing_exc_tuple` in IPython 7.17 and above.\n",
      "  and should_run_async(code)\n",
      "[nltk_data] Downloading package stopwords to\n",
      "[nltk_data]     C:\\Users\\salbo\\AppData\\Roaming\\nltk_data...\n",
      "[nltk_data]   Package stopwords is already up-to-date!\n"
     ]
    }
   ],
   "source": [
    "nltk.download('stopwords')\n",
    "# en_stop = set(nltk.corpus.stopwords.words('english'))\n",
    "\n",
    "en_stop = nltk.corpus.stopwords.words('english')\n",
    "# add more stop words mostly appear in the texts\n",
    "en_stop.extend(['programme','accordance','article', 'state','member','this','annex','paragraph'])\n"
   ],
   "metadata": {
    "collapsed": false,
    "pycharm": {
     "name": "#%%\n"
    }
   }
  },
  {
   "cell_type": "code",
   "source": [
    "def prepare_text_for_lda(text):\n",
    "    tokens = tokenize(text)\n",
    "    tokens = [token for token in tokens if len(token) > 4]\n",
    "    tokens = [token for token in tokens if token not in en_stop]\n",
    "    tokens = [get_lemma(token) for token in tokens]\n",
    "    return tokens"
   ],
   "metadata": {
    "collapsed": false,
    "pycharm": {
     "name": "#%%\n"
    }
   },
   "execution_count": 52,
   "outputs": [
    {
     "name": "stderr",
     "output_type": "stream",
     "text": [
      "C:\\Users\\salbo\\miniconda3\\envs\\multi_class\\lib\\site-packages\\ipykernel\\ipkernel.py:287: DeprecationWarning: `should_run_async` will not call `transform_cell` automatically in the future. Please pass the result to `transformed_cell` argument and any exception that happen during thetransform in `preprocessing_exc_tuple` in IPython 7.17 and above.\n",
      "  and should_run_async(code)\n"
     ]
    }
   ]
  },
  {
   "cell_type": "markdown",
   "source": [
    "Open up our data, read line by line, for each line, prepare text for LDA, then add to a list.\n",
    "Now we can see how our text data are converted:"
   ],
   "metadata": {
    "collapsed": false
   }
  },
  {
   "cell_type": "code",
   "execution_count": 77,
   "outputs": [
    {
     "name": "stderr",
     "output_type": "stream",
     "text": [
      "C:\\Users\\salbo\\miniconda3\\envs\\multi_class\\lib\\site-packages\\ipykernel\\ipkernel.py:287: DeprecationWarning: `should_run_async` will not call `transform_cell` automatically in the future. Please pass the result to `transformed_cell` argument and any exception that happen during thetransform in `preprocessing_exc_tuple` in IPython 7.17 and above.\n",
      "  and should_run_async(code)\n"
     ]
    },
    {
     "data": {
      "text/plain": "                                               title  \\\n0  (EU 17 2017 establishment Union framework coll...   \n1  Regulation (EU) 2019/833 European Parliament C...   \n2  Regulation (EU 1303/2013 European Parliament C...   \n3  Regulation (EU) 2019/473 European Parliament C...   \n\n                                             article  \\\n0  1.With view (EU Regulation management biologic...   \n1  1.This Regulation Union fishing vessels use pu...   \n2  Regulation common rules European Regional Deve...   \n3  Regulation provision European Fisheries Contro...   \n\n                                label  \n0                    fishing industry  \n1         conservation of fish stocks  \n2  European Regional Development Fund  \n3                  fishery management  ",
      "text/html": "<div>\n<style scoped>\n    .dataframe tbody tr th:only-of-type {\n        vertical-align: middle;\n    }\n\n    .dataframe tbody tr th {\n        vertical-align: top;\n    }\n\n    .dataframe thead th {\n        text-align: right;\n    }\n</style>\n<table border=\"1\" class=\"dataframe\">\n  <thead>\n    <tr style=\"text-align: right;\">\n      <th></th>\n      <th>title</th>\n      <th>article</th>\n      <th>label</th>\n    </tr>\n  </thead>\n  <tbody>\n    <tr>\n      <th>0</th>\n      <td>(EU 17 2017 establishment Union framework coll...</td>\n      <td>1.With view (EU Regulation management biologic...</td>\n      <td>fishing industry</td>\n    </tr>\n    <tr>\n      <th>1</th>\n      <td>Regulation (EU) 2019/833 European Parliament C...</td>\n      <td>1.This Regulation Union fishing vessels use pu...</td>\n      <td>conservation of fish stocks</td>\n    </tr>\n    <tr>\n      <th>2</th>\n      <td>Regulation (EU 1303/2013 European Parliament C...</td>\n      <td>Regulation common rules European Regional Deve...</td>\n      <td>European Regional Development Fund</td>\n    </tr>\n    <tr>\n      <th>3</th>\n      <td>Regulation (EU) 2019/473 European Parliament C...</td>\n      <td>Regulation provision European Fisheries Contro...</td>\n      <td>fishery management</td>\n    </tr>\n  </tbody>\n</table>\n</div>"
     },
     "execution_count": 77,
     "metadata": {},
     "output_type": "execute_result"
    }
   ],
   "source": [
    "import random\n",
    "import pandas as pd\n",
    "text_data = []\n",
    "data = pd.read_csv(\"data/data1.csv\")\n",
    "features = data['title'] + \" \" + data['article']\n",
    "for feature in features:\n",
    "    tokens = prepare_text_for_lda(feature)\n",
    "\n",
    "    text_data.append(tokens)\n",
    "\n",
    "# text_data\n",
    "data"
   ],
   "metadata": {
    "collapsed": false,
    "pycharm": {
     "name": "#%%\n"
    }
   }
  },
  {
   "cell_type": "markdown",
   "source": [
    "LDA with Gensim\n",
    "\n",
    "First, we are creating a dictionary from the data, then convert to bag-of-words corpus and save the dictionary and corpus for future use."
   ],
   "metadata": {
    "collapsed": false,
    "pycharm": {
     "name": "#%% md\n"
    }
   }
  },
  {
   "cell_type": "code",
   "execution_count": 78,
   "outputs": [
    {
     "name": "stderr",
     "output_type": "stream",
     "text": [
      "C:\\Users\\salbo\\miniconda3\\envs\\multi_class\\lib\\site-packages\\ipykernel\\ipkernel.py:287: DeprecationWarning: `should_run_async` will not call `transform_cell` automatically in the future. Please pass the result to `transformed_cell` argument and any exception that happen during thetransform in `preprocessing_exc_tuple` in IPython 7.17 and above.\n",
      "  and should_run_async(code)\n"
     ]
    }
   ],
   "source": [
    "from gensim import corpora\n",
    "dictionary = corpora.Dictionary(text_data)\n",
    "corpus = [dictionary.doc2bow(text) for text in text_data]\n",
    "import pickle\n",
    "pickle.dump(corpus, open('corpus.pkl', 'wb'))\n",
    "dictionary.save('dictionary.gensim')\n",
    "# corpus"
   ],
   "metadata": {
    "collapsed": false,
    "pycharm": {
     "name": "#%%\n"
    }
   }
  },
  {
   "cell_type": "markdown",
   "source": [
    "We are asking LDA to find 5 topics in the data:"
   ],
   "metadata": {
    "collapsed": false,
    "pycharm": {
     "name": "#%% md\n"
    }
   }
  },
  {
   "cell_type": "code",
   "execution_count": 55,
   "outputs": [
    {
     "name": "stderr",
     "output_type": "stream",
     "text": [
      "C:\\Users\\salbo\\miniconda3\\envs\\multi_class\\lib\\site-packages\\ipykernel\\ipkernel.py:287: DeprecationWarning: `should_run_async` will not call `transform_cell` automatically in the future. Please pass the result to `transformed_cell` argument and any exception that happen during thetransform in `preprocessing_exc_tuple` in IPython 7.17 and above.\n",
      "  and should_run_async(code)\n"
     ]
    },
    {
     "name": "stdout",
     "output_type": "stream",
     "text": [
      "(0, '0.001*\"commission\" + 0.001*\"accordance\" + 0.001*\"programme\" + 0.001*\"financial\"')\n",
      "(1, '0.000*\"commission\" + 0.000*\"programme\" + 0.000*\"accordance\" + 0.000*\"financial\"')\n",
      "(2, '0.041*\"vessel\" + 0.030*\"fishing\" + 0.017*\"inspection\" + 0.016*\"commission\"')\n",
      "(3, '0.001*\"commission\" + 0.001*\"programme\" + 0.000*\"accordance\" + 0.000*\"regulation\"')\n",
      "(4, '0.027*\"commission\" + 0.025*\"programme\" + 0.018*\"financial\" + 0.015*\"accordance\"')\n"
     ]
    }
   ],
   "source": [
    "import gensim\n",
    "NUM_TOPICS = 5\n",
    "ldamodel = gensim.models.ldamodel.LdaModel(corpus, num_topics = NUM_TOPICS, id2word=dictionary, passes=15)\n",
    "ldamodel.save('model5.gensim')\n",
    "topics = ldamodel.print_topics(num_words=4)\n",
    "for topic in topics:\n",
    "    print(topic)"
   ],
   "metadata": {
    "collapsed": false,
    "pycharm": {
     "name": "#%%\n"
    }
   }
  },
  {
   "cell_type": "code",
   "execution_count": 76,
   "outputs": [
    {
     "name": "stderr",
     "output_type": "stream",
     "text": [
      "C:\\Users\\salbo\\miniconda3\\envs\\multi_class\\lib\\site-packages\\ipykernel\\ipkernel.py:287: DeprecationWarning: `should_run_async` will not call `transform_cell` automatically in the future. Please pass the result to `transformed_cell` argument and any exception that happen during thetransform in `preprocessing_exc_tuple` in IPython 7.17 and above.\n",
      "  and should_run_async(code)\n"
     ]
    },
    {
     "name": "stdout",
     "output_type": "stream",
     "text": [
      "\n",
      "Perplexity:  -6.5603534881831465\n",
      "\n",
      "Coherence Score:  0.3738435677442225\n"
     ]
    }
   ],
   "source": [
    "# Compute Perplexity\n",
    "print('\\nPerplexity: ', ldamodel.log_perplexity(corpus))  # a measure of how good the model is. lower the better.\n",
    "\n",
    "# Compute Coherence Score\n",
    "coherence_model_lda = CoherenceModel(model=ldamodel, texts=text_data, dictionary=dictionary, coherence='c_v')\n",
    "coherence_lda = coherence_model_lda.get_coherence()\n",
    "print('\\nCoherence Score: ', coherence_lda)"
   ],
   "metadata": {
    "collapsed": false,
    "pycharm": {
     "name": "#%%\n"
    }
   }
  },
  {
   "cell_type": "markdown",
   "source": [
    "With LDA, we can see that different document with different topics, and the discriminations are obvious."
   ],
   "metadata": {
    "collapsed": false,
    "pycharm": {
     "name": "#%% md\n"
    }
   }
  },
  {
   "cell_type": "markdown",
   "source": [
    "Let’s try a new document:"
   ],
   "metadata": {
    "collapsed": false,
    "pycharm": {
     "name": "#%% md\n"
    }
   }
  },
  {
   "cell_type": "code",
   "execution_count": 59,
   "outputs": [
    {
     "name": "stdout",
     "output_type": "stream",
     "text": [
      "[(0, 1), (1, 1), (2, 1), (3, 1), (4, 1), (5, 1), (6, 2), (7, 1), (8, 1), (9, 1), (10, 1), (11, 1), (12, 1), (13, 1), (14, 1), (15, 1), (16, 1), (17, 1), (18, 1), (19, 1), (20, 1), (21, 1), (22, 1), (23, 1), (24, 1), (25, 1), (26, 6), (27, 2), (28, 18), (29, 4), (30, 2), (31, 1), (32, 2), (33, 1), (34, 1), (35, 6), (36, 2), (37, 3), (38, 3), (39, 3), (40, 3), (41, 1), (42, 2), (43, 8), (44, 5), (45, 2), (46, 2), (47, 2), (48, 1), (49, 3), (50, 1), (51, 3), (52, 1), (53, 2), (54, 1), (55, 1), (56, 1), (57, 6), (58, 2), (59, 8), (60, 1), (61, 3), (62, 2), (63, 1), (64, 1), (65, 1), (66, 1), (67, 1), (68, 1), (69, 1), (70, 4), (71, 1), (72, 3), (73, 5), (74, 5), (75, 1), (76, 1), (77, 1), (78, 2), (79, 2), (80, 2), (81, 1), (82, 5), (83, 1), (84, 1), (85, 2), (86, 8), (87, 1), (88, 2), (89, 1), (90, 1), (91, 4), (92, 1), (93, 12), (94, 1), (95, 2), (96, 4), (97, 47), (98, 1), (99, 1), (100, 1), (101, 4), (102, 3), (103, 1), (104, 2), (105, 1), (106, 1), (107, 1), (108, 1), (109, 5), (110, 1), (111, 1), (112, 1), (113, 1), (114, 1), (115, 1), (116, 1), (117, 2), (118, 1), (119, 3), (120, 5), (121, 1), (122, 3), (123, 4), (124, 20), (125, 1), (126, 5), (127, 1), (128, 7), (129, 1), (130, 1), (131, 2), (132, 1), (133, 5), (134, 1), (135, 1), (136, 1), (137, 1), (138, 1), (139, 1), (140, 1), (141, 1), (142, 1), (143, 5), (144, 1), (145, 2), (146, 1), (147, 5), (148, 1), (149, 1), (150, 1), (151, 5), (152, 4), (153, 2), (154, 1), (155, 10), (156, 1), (157, 1), (158, 1), (159, 1), (160, 1), (161, 1), (162, 1), (163, 1), (164, 1), (165, 2), (166, 1), (167, 1), (168, 6), (169, 3), (170, 3), (171, 2), (172, 4), (173, 1), (174, 3), (175, 2), (176, 3), (177, 1), (178, 3), (179, 3), (180, 1), (181, 1), (183, 1), (184, 10), (185, 1), (186, 6), (187, 1), (188, 5), (189, 4), (190, 1), (191, 1), (192, 5), (193, 2), (194, 2), (195, 1), (196, 1), (197, 21), (198, 7), (199, 1), (200, 1), (201, 3), (202, 4), (203, 1), (204, 4), (205, 1), (206, 1), (207, 1), (208, 13), (209, 1), (210, 1), (211, 1), (212, 1), (213, 1), (214, 1), (215, 2), (216, 3), (217, 1), (218, 4), (219, 1), (220, 8), (221, 10), (222, 1), (223, 1), (224, 1), (225, 2), (226, 1), (227, 9), (228, 1), (229, 1), (230, 8), (231, 1), (232, 13), (233, 1), (234, 2), (235, 1), (236, 1), (237, 1), (238, 6), (239, 4), (240, 5), (241, 1), (242, 1), (243, 1), (244, 17), (245, 1), (246, 3), (247, 8), (248, 2), (249, 2), (250, 2), (251, 1), (252, 3), (253, 1), (254, 11), (255, 1), (256, 3), (257, 1), (258, 10), (259, 1), (260, 33), (261, 5), (262, 4), (263, 1), (264, 1), (265, 1), (266, 1), (267, 1), (268, 5), (269, 6), (270, 1), (271, 7), (272, 1), (273, 1), (274, 2), (275, 1), (276, 1), (277, 1), (278, 4), (279, 8), (280, 1), (281, 1), (282, 8), (283, 4), (284, 2), (285, 1), (286, 11), (287, 4), (288, 6), (289, 6), (290, 1), (291, 20), (292, 1), (293, 1), (294, 9), (295, 3), (296, 1), (297, 5), (298, 1), (299, 4), (300, 2), (301, 11), (302, 1), (303, 1), (304, 15), (305, 1), (306, 2), (307, 8), (308, 1), (309, 1), (310, 11), (311, 1), (312, 1), (313, 1), (314, 3), (315, 1), (316, 2), (317, 4), (318, 9), (319, 1), (320, 2), (321, 1), (322, 16), (323, 1), (324, 2), (325, 1), (326, 1), (327, 1), (328, 2), (329, 9), (330, 3), (331, 2), (332, 4), (333, 32), (334, 1), (335, 1), (336, 1), (337, 22), (338, 1), (339, 1), (340, 1), (341, 2), (342, 4), (343, 18), (344, 3), (345, 1), (346, 2), (347, 4), (348, 8), (349, 1), (350, 2), (351, 1), (352, 8), (353, 1), (354, 1), (355, 2), (356, 1), (357, 1), (358, 1), (359, 2), (360, 1), (361, 5), (362, 1), (363, 2), (364, 1), (365, 1), (366, 1), (367, 1), (368, 40), (369, 1), (370, 1), (371, 9), (372, 1), (373, 3), (374, 1), (375, 4), (376, 2), (377, 1), (378, 1), (379, 1), (380, 9), (381, 1), (382, 1), (383, 1), (384, 1), (385, 4), (386, 1), (387, 1), (388, 1), (389, 1), (390, 1), (391, 42), (392, 1), (393, 1), (394, 1), (395, 1), (396, 6), (397, 4), (398, 6), (399, 3), (400, 1), (401, 1), (402, 5), (403, 2), (404, 1), (405, 4), (406, 1), (407, 1), (408, 8), (409, 1), (410, 4), (411, 1), (412, 5), (413, 1), (414, 1), (415, 2), (416, 1), (417, 2), (418, 1), (419, 2), (420, 1), (421, 1), (422, 1), (423, 1), (424, 2), (425, 2), (426, 3), (427, 3), (428, 1), (429, 3), (430, 1), (431, 3), (432, 1), (433, 1), (434, 37), (435, 1), (436, 19), (437, 1), (438, 1), (439, 2), (440, 4), (441, 2), (442, 5), (443, 1), (444, 1), (445, 1), (446, 1)]\n",
      "['1.with', 'regulation', 'management', 'biological', 'environmental', 'technical', 'socioeconomic', 'fishery', 'sector', 'regulation', '1380/2013.2.the', 'shall', 'collect', 'obligation', 'collect', 'union', 'legal', 'regulation.3.for', 'necessary', 'fishery', 'management', 'union', 'legal', 'regulation', 'rule', 'transmission', 'processing', 'management', 'collect', 'regulation', '223/2009.for', 'purpose', 'regulation', 'refer', 'regulation', 'addition', 'definition', 'sector', 'activity', 'relate', 'commercial', 'fishery', 'recreational', 'fishery', 'aquaculture', 'industry', 'processing', 'fishery', 'products;(2)recreational', 'fishery', 'commercial', 'fishing', 'activity', 'marine', 'biological', 'resource', 'recreation', 'tourism', 'sport;(3)marine', 'region', 'geographical', 'regional', 'fishery', 'management', 'organisation', 'implement', '9(11);(4)primary', 'associate', 'individual', 'vessel', 'natural', 'legal', 'person', 'individual', 'samples;(5)metadata', 'qualitative', 'quantitative', 'information', 'primary', 'data;(6)detailed', 'base', 'primary', 'natural', 'person', 'legal', 'entity', 'directly', 'indirectly;(7)aggregated', 'output', 'primary', 'detail', 'specific', 'analytic', 'purposes;(8)scientific', 'observer', 'person', 'fishing', 'operations', 'collection', 'scientific', 'purpose', 'charge', 'implementation', 'national', 'plan', 'collection;(9)scientific', 'manage', 'regulation.1.the', 'commission', 'multiannual', 'union', 'programme', 'collection', 'management', 'accordance', 'content', 'criterion', '5.the', 'commission', 'multiannual', 'union', 'programme', 'matter', 'point', 'delegate', 'accordance', '24.the', 'commission', 'multiannual', 'union', 'programme', 'matter', 'point', 'implement', 'accordance', 'examination', 'procedure', '25(2).2.before', 'adopt', 'commission', 'regional', 'coordination', 'group', 'stecf', 'appropriate', 'scientific', 'body', 'regulation', '1380/2013.1.the', 'multiannual', 'union', 'programme', 'shall', 'establish:(a)a', 'detail', 'requirement', 'objective', 'mandatory', 'research', 'survey', 'mandatory', 'state', 'base', 'fishing', 'aquaculture', 'activity', 'research', 'survey', 'sea.2.the', 'refer', 'point', 'shall', 'include:(a)biological', 'stocks', '-caught', 'union', 'commercial', 'appropriate', 'recreational', 'fishery', 'union', 'waters', 'salmon', 'relevant', 'inland', 'waters', 'diadromous', 'species', 'commercial', 'interest', 'ecosystem', 'base', 'approach', 'fishery', 'management', 'conservation', 'necessary', 'operation', 'common', 'fishery', 'policy;(b)data', 'ass', 'impact', 'union', 'marine', 'ecosystem', 'union', 'waters', 'catch', 'target', 'species', 'particular', 'species', 'union', 'international', 'marine', 'habitat', 'vulnerable', 'marine', 'area', 'webs;(c)data', 'activity', 'union', 'fishing', 'vessel', 'union', 'waters', 'level', 'fishing', 'effort', 'capacity', 'union', 'fleet;(d)socioeconomic', 'fishery', 'socioeconomic', 'performance', 'union', 'sector', 'assessed;(e)socioeconomic', 'sustainability', 'marine', 'aquaculture', 'socioeconomic', 'performance', 'sustainability', 'union', 'aquaculture', 'sector', 'environmental', 'impact', 'assessed;(f)socioeconomic', 'processing', 'sector', 'socioeconomic', 'performance', 'sector', 'assessed.3.in', 'addition', 'refer', 'point', 'socioeconomic', 'sustainability', 'freshwater', 'aquaculture', 'socioeconomic', 'performance', 'sustainability', 'union', 'aquaculture', 'sector', 'environmental', 'impact', 'multiannual', 'union', 'programme', 'commission', 'account:(a)the', 'information', 'management', 'efficient', 'implementation', 'common', 'fishery', 'policy', 'reaching', 'objective', 'regulation', 'information', 'target', 'implementation', 'multiannual', 'plan', 'comprehensive', 'reliable', 'purpose', 'decision', 'management', 'protection', 'ecosystem', 'vulnerable', 'species', 'habitats;(c)the', 'relevance', 'sustainable', 'development', 'aquaculture', 'union', 'level', 'account', 'predominantly', 'local', 'character', 'support', 'impact', 'assessment', 'policy', 'measures;(e)costs', 'benefit', 'account', 'effective', 'solution', 'objective', 'disruption', 'series;(g)the', 'simplification', 'duplication', 'collection', 'cover', 'deficient', 'fisheries;(i)regional', 'specificity', 'regional', 'agreement', 'regional', 'coordination', 'groups;(j)the', 'international', 'obligation', 'union', 'states;(k)spatial', 'temporal', 'coverage', 'collection', 'activities.5.the', 'mandatory', 'research', 'survey', 'account', 'requirements:(a)information', 'management', 'common', 'fishery', 'policy', 'reaching', 'objective', 'regulation', 'evaluation', 'management', 'plans;(d)information', 'monitoring', 'ecosystem', 'variables;(e)information', 'adequate', 'coverage', 'stock', 'duplication', 'research', 'survey', '-series.6.for', 'stocks', 'subject', 'catch', 'limit', 'participation', 'different', 'state', 'research', 'survey', 'refer', 'point', 'base', 'share', 'relevant', 'state', 'allowable', 'catch', 'available', 'union', 'stocks', 'stocks', 'subject', 'catch', 'limit', 'rule', 'base', 'relative', 'share', 'relevant', 'state', 'total', 'exploitation', 'stock', 'concerned.7.for', 'stocks', 'subject', 'catch', 'limit', 'basis', 'share', 'relevant', 'total', 'allowable', 'catch', 'union', 'stock', 'stocks', 'subject', 'catch', 'limit', 'threshold', 'basis', 'relative', 'share', 'relevant', 'total', 'exploitation', 'stock', 'aquaculture', 'processing', 'sector', 'threshold', 'sector', 'state.1.without', 'prejudice', 'current', 'collection', 'obligation', 'union', 'state', 'framework', 'operational', 'programme', 'accordance', 'multiannual', 'union', 'programme', 'pursuant', 'regulation', 'national', 'plan).2.when', 'national', 'plan', 'accordance', 'commission', 'evaluation', 'stecf', 'accordance', 'regulation', 'evaluation', 'national', 'scientific', 'relevance', 'sufficient', 'quality', 'propose', 'method', 'procedure', 'commission', 'amendment', 'commission', 'revise', 'national', 'commission.3.national', 'plan', 'detail', 'description', 'programme;(b)the', 'temporal', 'spatial', 'distribution', 'frequency', 'collected;(c)the', 'source', 'procedure', 'method', 'process', 'user', 'scientific', 'data;(d)the', 'quality', 'assurance', 'quality', 'control', 'framework', 'adequate', 'quality', 'accordance', '14;(e)in', 'format', 'define', 'user', 'scientific', 'known;(f)the', 'international', 'regional', 'cooperation', 'coordination', 'arrangement', 'bilateral', 'multilateral', 'agreement', 'achieve', 'objective', 'regulation', 'and(g)how', 'international', 'obligation', 'union', 'state', 'national', 'framework', 'regional', 'coordination', 'group', 'coordinate', 'effort', 'state', 'particular', 'marine', 'region', 'sufficient', 'efficient', 'coverage', 'duplication', 'collection', 'activity', 'state', 'relevant', 'stakeholder', 'appropriate', 'level', 'cooperation', 'coordination', 'place', 'framework', 'regional', 'coordination', 'groups.1.each', 'national', 'correspondent', 'commission', 'national', 'correspondent', 'focal', 'point', 'exchange', 'information', 'commission', 'preparation', 'implementation', 'national', 'tasks:(a)coordinate', 'preparation', 'annual', 'report', '11;(b)ensure', 'transmission', 'information', 'attendance', 'relevant', 'expert', 'expert', 'group', 'meeting', 'commission', 'participation', 'relevant', 'regional', 'coordination', 'group', '9.3.if', 'body', 'implementation', 'national', 'national', 'correspondent', 'responsible', 'coordination', 'work.4.each', 'national', 'correspondent', 'sufficient', 'mandate', 'regional', 'coordination', 'group', '9.member', 'state', 'coordinate', 'action', 'quality', 'timeliness', 'coverage', 'reliability', 'collection', 'method', 'collection', 'activities.1.as', 'state', 'collection', 'activity', 'state', 'marine', 'region', 'coordinate', 'action', 'country', 'sovereignty', 'jurisdiction', 'waters', 'regional', 'coordination', 'regional', 'coordination', 'group', 'relevant', 'state', 'coordination', 'group', 'implement', 'procedure', 'method', 'quality', 'assurance', 'quality', 'control', 'reliability', 'scientific', 'advice', 'purpose', 'regional', 'coordination', 'group', 'coordination', 'group', 'expert', 'state', 'national', 'correspondent', 'commission.5.regional', 'coordination', 'group', 'coordination', 'group', 'commission', 'issue', 'regions.7.representatives', 'relevant', 'user', 'scientific', 'regional', 'fishery', 'management', 'organisation', 'advisory', 'council', 'country', 'meeting', 'regional', 'coordination', 'group', 'observer', 'necessary.8.regional', 'coordination', 'group', 'draft', 'regional', 'plan', 'compatible', 'regulation', 'multiannual', 'union', 'programme', 'draft', 'regional', 'plan', 'procedure', 'method', 'quality', 'assurance', 'quality', 'control', 'processing', 'refer', 'point', 'regionally', 'coordinate', 'sampling', 'strategy', 'sharing', 'arrangement', 'participation', 'research', 'survey', 'state', 'commission', 'regional', 'exist', 'state', 'commission', 'commission', 'draft', 'regional', 'implement', 'accordance', 'examination', 'procedure', 'refer', 'commission', 'evaluation', 'stecf', 'evaluation', 'regional', 'scientific', 'relevance', 'sufficient', 'quality', 'propose', 'method', 'procedure', 'commission', 'state', 'amendment', 'draft', 'commission', 'state', 'revise', 'draft', 'regional', 'commission.10.a', 'regional', 'state', 'concerned.11.the', 'commission', 'rule', 'procedure', 'sharing', 'arrangement', 'participation', 'research', 'survey', 'marine', 'region', 'purpose', 'collection', 'format', 'timetable', 'submission', 'approval', 'regional', 'plan', 'implement', 'accordance', 'examination', 'procedure', 'refer', 'national', 'draft', 'regional', 'plan', 'article', 'account:(a)the', 'conformity', 'plan', 'thereto', 'article', 'and(b)the', 'scientific', 'relevance', 'plan', 'purpose', 'quality', 'propose', 'method', 'procedures.1.member', 'state', 'annual', 'basis', 'submit', 'commission', 'report', 'implementation', 'national', 'plan', 'commission', 'rule', 'procedure', 'format', 'timetable', 'submission', 'approval', 'annual', 'report', 'implement', 'accordance', 'examination', 'procedure', 'refer', '25(2).2.in', 'accordance', 'evaluate:(a)the', 'execution', 'national', 'plan', 'and(b)the', 'quality', 'states.3.the', 'commission', 'implementation', 'national', 'plan', 'of:(a)the', 'evaluation', 'stecf', 'and(b)the', 'consultation', 'appropriate', 'regional', 'fishery', 'management', 'organisation', 'union', 'contracting', 'party', 'observer', 'relevant', 'international', 'scientific', 'bodies.1.member', 'state', 'order', 'duty', 'collector', 'implementation', 'national', 'access', 'catch', 'business', 'register', 'data.2.the', 'masters', 'union', 'fishing', 'vessel', 'board', 'scientific', 'observer', 'order', 'discharge', 'duty', 'alternative', 'collection', 'method', 'national', 'plan', 'prejudice', 'international', 'obligations.3.the', 'masters', 'union', 'fishing', 'vessel', 'board', 'scientific', 'observer', 'national', 'alternative', 'collection', 'method', 'national', 'control', 'charge', 'implementation', 'national', 'state', 'shall:(a)ensure', 'primary', 'national', 'plan', 'safely', 'store', 'computerise', 'database', 'necessary', 'measure', 'confidential;(b)ensure', 'metadata', 'primary', 'socioeconomic', 'national', 'plan', 'computerise', 'databases;(c)take', 'necessary', 'technical', 'measure', 'accidental', 'illicit', 'destruction', 'accidental', 'deterioration', 'unauthorised', 'consultation', 'distribution.1.member', 'state', 'responsible', 'quality', 'completeness', 'primary', 'national', 'plan', 'detail', 'aggregate', 'therefrom', 'transmit', 'user', 'scientific', 'data.2.member', 'state', 'that:(a)primary', 'national', 'plan', 'properly', 'check', 'error', 'appropriate', 'quality', 'control', 'aggregate', 'primary', 'national', 'plan', 'transmission', 'user', 'scientific', 'data;(c)the', 'quality', 'assurance', 'procedure', 'primary', 'detail', 'aggregate', 'refer', 'point', 'develop', 'accordance', 'procedure', 'international', 'scientific', 'body', 'regional', 'fishery', 'management', 'organisation', 'stecf', 'regional', 'coordination', 'purpose', 'verification', 'primary', 'accordance', 'socioeconomic', 'state', 'commission', 'access', 'national', 'computerise', 'database', '13.2.for', 'purpose', 'verification', 'socioeconomic', 'state', 'commission', 'access', 'national', 'computerise', 'database', 'point', '13.3.member', 'state', 'agreement', 'commission', 'effective', 'unhindered', 'access', 'commission', 'national', 'computerise', 'database', 'paragraph', 'prejudice', 'obligation', 'union', 'rules.4.member', 'state', 'primary', 'research', 'survey', 'transmit', 'international', 'scientific', 'organisation', 'scientific', 'body', 'regional', 'fishery', 'management', 'organisation', 'international', 'obligation', 'union', 'states.1.member', 'state', 'primary', 'detail', 'aggregate', 'accordance', 'international', 'standard', 'applicable;(b)protocols', 'international', 'regional', 'level', 'user', 'scientific', 'commission', 'description', 'method', 'properties.1.member', 'state', 'adequate', 'process', 'electronic', 'technology', 'effective', 'application', 'regulation', '1380/2013', 'regulation', 'unnecessary', 'restriction', 'dissemination', 'aggregate', 'user', 'scientific', 'parties.2.member', 'state', 'appropriate', 'safeguard', 'information', 'identify', 'identifiable', 'natural', 'person', 'legal', 'entity', 'transmit', 'relevant', 'detail', 'aggregate', 'natural', 'person', 'legal', 'entity', 'need', 'identify', 'user', 'scientific', 'anonymity.3.in', 'request', 'user', 'scientific', 'order', 'basis', 'advice', 'fishery', 'management', 'state', 'relevant', 'detail', 'aggregate', 'available', 'relevant', 'user', 'scientific', 'deadline', 'request', 'short', 'month', 'receipt', 'request', 'data.4.in', 'request', 'state', 'relevant', 'available', 'relevant', 'user', 'scientific', 'interest', 'party', 'state', 'party', 'duration', 'scope', 'request', 'additional', 'processing', 'requested.5.in', 'case', 'user', 'scientific', 'interest', 'party', 'additional', 'processing', 'collect', 'state', 'additional', 'processing', 'transmission.6.in', 'justify', 'case', 'commission', 'extension', 'deadline', '3.7.where', 'detail', 'scientific', 'publication', 'state', 'professional', 'interest', 'collector', 'implementation', 'national', 'publication', 'state', 'user', 'scientific', 'commission', 'decision', 'reason', 'therefor.1.with', 'costs', 'access', 'detail', 'aggregate', 'user', 'scientific', 'interest', 'party', 'state', 'commission', 'scientific', 'advisory', 'body', 'relevant', 'user', 'scientific', 'compatible', 'storage', 'exchange', 'system', 'account', 'provisions', 'directive', '2007/2', 'system', 'dissemination', 'information', 'interest', 'party', 'system', 'regional', 'database', 'regional', 'plan', 'regulation', 'basis', 'agreement', 'systems.2.the', 'commission', 'adopt', 'implement', 'rule', 'procedure', 'format', 'code', 'timetable', 'compatibility', 'storage', 'exchange', 'system', 'safeguard', 'event', 'storage', 'exchange', 'system', 'information', 'identify', 'identifiable', 'natural', 'person', 'implement', 'accordance', 'examination', 'procedure', '25(2).if', 'scientific', 'request', 'commission', 'review', 'refusal', 'commission', 'refusal', 'supply', 'scientific', 'month.1.the', 'user', 'scientific', 'interest', 'party', 'purpose', 'information', 'request', 'accordance', 'scientific', 'ethics;(d)inform', 'commission', 'state', 'suspect', 'problem', 'state', 'commission', 'reference', 'result', 'data;(f)not', 'forward', 'request', 'party', 'state', 'commission', 'compliance', 'user', 'scientific', 'user', 'scientific', 'interest', 'party', 'comply', 'requirement', 'commission', 'concern', 'limit', 'user', 'access', 'state', 'national', 'expert', 'relevant', 'meeting', 'regional', 'fishery', 'management', 'organisation', 'union', 'contracting', 'party', 'observer', 'international', 'scientific', 'bodies.1.member', 'state', 'commission', 'effort', 'cooperate', 'order', 'quality', 'timeliness', 'coverage', 'improvement', 'reliability', 'scientific', 'advice', 'working', 'method', 'regional', 'fishery', 'management', 'organisation', 'union', 'contracting', 'party', 'observer', 'international', 'scientific', 'bodies.2.such', 'coordination', 'cooperation', 'prejudice', 'scientific', 'debate', 'impartial', 'scientific', 'advice.1.the', 'commission', 'association', 'stecf', 'committee', 'commission', 'european', 'parliament', 'council', 'commission', 'subject', 'conditions', 'power', 'adopt', 'commission', 'period', 'commission', 'report', 'respect', 'delegation', 'power', '3-year', 'period', 'delegation', 'power', 'period', 'identical', 'duration', 'european', 'parliament', 'council', 'extension', 'delegation', 'power', 'european', 'parliament', 'council', 'decision', 'revoke', 'delegation', 'power', 'decision', 'publication', 'decision', 'official', 'journal', 'european', 'union', 'validity', 'delegate', 'delegate', 'commission', 'expert', 'accordance', 'principle', 'interinstitutional', 'agreement', 'better', 'making.5.as', 'delegate', 'commission', 'simultaneously', 'european', 'parliament', 'council.6.a', 'delegate', 'pursuant', 'force', 'objection', 'european', 'parliament', 'council', 'period', 'month', 'notification', 'european', 'parliament', 'council', 'european', 'parliament', 'council', 'commission', 'object', 'period', 'month', 'initiative', 'european', 'parliament', 'council.1.when', 'regulation', 'commission', 'committee', 'fishery', 'regulation', '1380/2013', 'committee', 'committee', 'reference', 'regulation', '199/2008', 'repeal', 'effect', '2017.2.notwithstanding', '1:(a)the', 'repeal', 'provisions', 'applicable', 'national', 'programme', '2017;(b)the', 'multiannual', 'union', 'programme', 'force', 'applicable', 'period', 'duration', 'multiannual', 'union', 'programme', 'regulation', 'whichever', 'occur', 'first.3.references', 'reference', 'regulation', 'accordance', 'correlation', 'table', 'hereto', 'regulation', 'force', 'publication', 'official', 'journal', 'european', 'union']\n",
      "[(2, 0.15076411), (4, 0.84882265)]\n"
     ]
    },
    {
     "name": "stderr",
     "output_type": "stream",
     "text": [
      "C:\\Users\\salbo\\miniconda3\\envs\\multi_class\\lib\\site-packages\\ipykernel\\ipkernel.py:287: DeprecationWarning: `should_run_async` will not call `transform_cell` automatically in the future. Please pass the result to `transformed_cell` argument and any exception that happen during thetransform in `preprocessing_exc_tuple` in IPython 7.17 and above.\n",
      "  and should_run_async(code)\n"
     ]
    }
   ],
   "source": [
    "new_doc = data['article'][0]\n",
    "new_doc = prepare_text_for_lda(new_doc)\n",
    "new_doc_bow = dictionary.doc2bow(new_doc)\n",
    "print(new_doc_bow)\n",
    "print(new_doc)\n",
    "print(ldamodel.get_document_topics(new_doc_bow))"
   ],
   "metadata": {
    "collapsed": false,
    "pycharm": {
     "name": "#%%\n"
    }
   }
  },
  {
   "cell_type": "code",
   "execution_count": 48,
   "outputs": [
    {
     "name": "stdout",
     "output_type": "stream",
     "text": [
      "[(3307, 1)]\n",
      "['practical', 'bayesian', 'optimization', 'machine', 'learning', 'algorithm']\n",
      "[(0, 0.100062005), (1, 0.10002429), (2, 0.10002141), (3, 0.5998307), (4, 0.1000616)]\n"
     ]
    },
    {
     "name": "stderr",
     "output_type": "stream",
     "text": [
      "C:\\Users\\salbo\\miniconda3\\envs\\multi_class\\lib\\site-packages\\ipykernel\\ipkernel.py:287: DeprecationWarning: `should_run_async` will not call `transform_cell` automatically in the future. Please pass the result to `transformed_cell` argument and any exception that happen during thetransform in `preprocessing_exc_tuple` in IPython 7.17 and above.\n",
      "  and should_run_async(code)\n"
     ]
    }
   ],
   "source": [
    "new_doc = 'Practical Bayesian Optimization of Machine Learning Algorithms'\n",
    "new_doc = prepare_text_for_lda(new_doc)\n",
    "new_doc_bow = dictionary.doc2bow(new_doc)\n",
    "print(new_doc_bow)\n",
    "print(new_doc)\n",
    "print(ldamodel.get_document_topics(new_doc_bow))"
   ],
   "metadata": {
    "collapsed": false,
    "pycharm": {
     "name": "#%%\n"
    }
   }
  },
  {
   "cell_type": "markdown",
   "source": [
    "## pyLDAvis\n",
    "pyLDAvis is designed to help users interpret the topics in a topic model that has been fit to a corpus of text data. The package extracts information from a fitted LDA topic model to inform an interactive web-based visualization.\n",
    "\n",
    "Visualizing 5 topics:"
   ],
   "metadata": {
    "collapsed": false
   }
  },
  {
   "cell_type": "code",
   "execution_count": 24,
   "outputs": [
    {
     "name": "stderr",
     "output_type": "stream",
     "text": [
      "C:\\Users\\salbo\\miniconda3\\envs\\multi_class\\lib\\site-packages\\ipykernel\\ipkernel.py:287: DeprecationWarning: `should_run_async` will not call `transform_cell` automatically in the future. Please pass the result to `transformed_cell` argument and any exception that happen during thetransform in `preprocessing_exc_tuple` in IPython 7.17 and above.\n",
      "  and should_run_async(code)\n"
     ]
    },
    {
     "data": {
      "text/plain": "<IPython.core.display.HTML object>",
      "text/html": "\n<link rel=\"stylesheet\" type=\"text/css\" href=\"https://cdn.jsdelivr.net/gh/bmabey/pyLDAvis@3.3.1/pyLDAvis/js/ldavis.v1.0.0.css\">\n\n\n<div id=\"ldavis_el1558818656014000484391625612\"></div>\n<script type=\"text/javascript\">\n\nvar ldavis_el1558818656014000484391625612_data = {\"mdsDat\": {\"x\": [0.12105097589164938, 0.04776032128408382, -0.18716591121821072, -0.10653386687347026, 0.12488848091594791], \"y\": [-0.07393680425148277, 0.18304677060137559, -0.07290067533330309, 0.03852112091685693, -0.07473041193344684], \"topics\": [1, 2, 3, 4, 5], \"cluster\": [1, 1, 1, 1, 1], \"Freq\": [0.003179537953808054, 21.463826963005815, 63.7493803024261, 14.780433725755968, 0.003179470858314859]}, \"tinfo\": {\"Term\": [\"vessel\", \"fishing\", \"state\", \"agency\", \"annex\", \"funds\", \"programme\", \"inspection\", \"union\", \"commission\", \"catch\", \"regulation\", \"control\", \"payment\", \"board\", \"instrument\", \"regulatory\", \"european\", \"financial\", \"fishery\", \"administrative\", \"subparagraph\", \"national\", \"inspector\", \"audit\", \"partnership\", \"investment\", \"eligible\", \"observer\", \"contribution\", \"25(2).if\", \"necessary.8.regional\", \"2017;(b)the\", \"groups.1.each\", \"1:(a)the\", \"parties.2.member\", \"properly\", \"199/2008\", \"spatial\", \"bodies.2.such\", \"illicit\", \"requested.5.in\", \"9(11);(4)primary\", \"recreation\", \"data;(d)the\", \"states.1.member\", \"24.the\", \"focal\", \"1380/2013.2.the\", \"character\", \"occur\", \"series;(g)the\", \"ethics;(d)inform\", \"sea.2.the\", \"measures;(e)costs\", \"properties.1.member\", \"analytic\", \"comprehensive\", \"data;(f)not\", \"work.4.each\", \"commission\", \"programme\", \"accordance\", \"paragraph\", \"funds\", \"financial\", \"specific\", \"vessel\", \"point\", \"account\", \"regulation\", \"action\", \"authority\", \"operational\", \"implementation\", \"payment\", \"audit\", \"relevant\", \"support\", \"subparagraph\", \"information\", \"instrument\", \"contribution\", \"state\", \"period\", \"annex\", \"agreement\", \"rule\", \"european\", \"refer\", \"priority\", \"fishing\", \"union\", \"report\", \"regulatory\", \"master\", \"division\", \"flying\", \"prawn\", \"weight\", \"northern\", \"transhipment\", \"vessel\", \"authorisation\", \"bluefin\", \"convention\", \"hours\", \"image\", \"greenland\", \"contravention\", \"shark\", \"secretary\", \"exploratory\", \"infringement\", \"port\", \"logbook\", \"figure\", \"arrival\", \"redfish\", \"length\", \"atlantic\", \"radio\", \"-catch\", \"stowage\", \"fishing\", \"contracting\", \"inspector\", \"quota\", \"species\", \"quantity\", \"catch\", \"observer\", \"annex\", \"position\", \"party\", \"inspection\", \"landing\", \"prior\", \"competent\", \"activity\", \"fishery\", \"report\", \"board\", \"surveillance\", \"regulation\", \"number\", \"accordance\", \"commission\", \"information\", \"point\", \"paragraph\", \"state\", \"request\", \"control\", \"funds\", \"payment\", \"partnership\", \"investment\", \"eligible\", \"beneficiary\", \"financing\", \"cohesion\", \"territorial\", \"instrument\", \"major\", \"interim\", \"partner\", \"eafrd\", \"programming\", \"amount\", \"audit\", \"commitment\", \"conditionality\", \"social\", \"eligibility\", \"thematic\", \"milestone\", \"irregularity\", \"correction\", \"strategy\", \"recipient\", \"summary\", \"finance\", \"reserve\", \"subparagraph\", \"contribution\", \"manage\", \"financial\", \"specific\", \"programme\", \"support\", \"expenditure\", \"public\", \"priority\", \"project\", \"operational\", \"application\", \"local\", \"development\", \"implementation\", \"action\", \"region\", \"account\", \"authority\", \"agreement\", \"commission\", \"paragraph\", \"operation\", \"accordance\", \"rule\", \"point\", \"regulation\", \"period\", \"state\", \"relevant\", \"union\", \"information\", \"european\", \"director\", \"agency\", \"primary\", \"guard\", \"coast\", \"socioeconomic\", \"survey\", \"stecf\", \"office\", \"database\", \"correspondent\", \"servant\", \"agency.2.the\", \"draft\", \"multiannual\", \"deployment\", \"liability\", \"practical\", \"discharge\", \"mandatory\", \"justice\", \"deputy\", \"vote.3.the\", \"advice\", \"user\", \"scientific\", \"chair\", \"aquaculture\", \"collection\", \"1380/2013\", \"border\", \"administrative\", \"international\", \"executive\", \"coordination\", \"waters\", \"staff\", \"regional\", \"member\", \"board\", \"plan\", \"state\", \"control\", \"fishery\", \"union\", \"inspection\", \"european\", \"national\", \"joint\", \"common\", \"commission\", \"regulation\", \"parliament\", \"procedure\", \"council\", \"accordance\", \"activity\", \"necessary\", \"programme\", \"relevant\", \"management\", \"implementation\", \"information\", \"instructor\", \"regulation;(c)he\", \"director;(g)establish\", \"request:(a)assist\", \"work.4.the\", \"logistic\", \"it.2.the\", \"inspections;(b)develop\", \"director.4.the\", \"accessible\", \"plan;(c)the\", \"1224/2009;(f)fishery\", \"euratom\", \"accordingly.11.the\", \"9(11);(4)primary\", \"programmes.1.joint\", \"council.4.on\", \"impartial\", \"branch\", \"ordinary\", \"1.each\", \"privilege\", \"28(2);(g)he\", \"adjust\", \"corruption\", \"board.4.when\", \"7.12.2013\", \"tfeu).6.the\", \"fight\", \"thereof.12.where\", \"iii.3.for\", \"officials;(c)at\", \"programme\", \"accordance\", \"commission\", \"regulation\", \"paragraph\", \"financial\", \"state\", \"authority\", \"instrument\", \"vessel\", \"funds\", \"european\", \"point\", \"implementation\", \"audit\", \"operational\", \"expenditure\", \"fishing\", \"report\", \"priority\", \"specific\", \"action\", \"information\", \"union\", \"control\", \"subparagraph\", \"operations\", \"relevant\", \"activity\", \"period\", \"annex\", \"support\"], \"Freq\": [287.0, 209.0, 253.0, 91.0, 148.0, 211.0, 433.0, 119.0, 180.0, 572.0, 87.0, 304.0, 136.0, 135.0, 90.0, 149.0, 61.0, 158.0, 309.0, 103.0, 72.0, 130.0, 102.0, 60.0, 106.0, 90.0, 85.0, 81.0, 63.0, 104.0, 0.00023524107585673929, 0.00023521261704189476, 0.00023519414908758075, 0.00023519398606654645, 0.00023518152660178228, 0.00023518557883892054, 0.00023517374816957437, 0.0002351771716112946, 0.00023517826618109632, 0.00023516478201268798, 0.00023516357099929034, 0.00023515833103747362, 0.00023515031971807387, 0.0002351540924905819, 0.0002351533006741296, 0.0002351507854924576, 0.00023514680312147686, 0.0002351522061043279, 0.00023514426465108567, 0.00023514293719409211, 0.00023514545237576413, 0.00023514244813098922, 0.00023514573184039436, 0.0002351402357026666, 0.0002351381397179399, 0.00023513411076952085, 0.00023513294633356157, 0.00023513278331252727, 0.0002351292434272111, 0.00023512821872356693, 0.0004275416660404617, 0.00039744942700970366, 0.00034827327033120546, 0.0003383089822292681, 0.00032448111890319545, 0.00032680374944499176, 0.00031029582031506564, 0.00031562544370063975, 0.00030846604893738954, 0.00030134319417454117, 0.0003126904362878639, 0.0003000370929364675, 0.0002960181120892082, 0.0002941472361221699, 0.00029533486764574753, 0.0002891425602353894, 0.00028615468743006274, 0.00028785096786936823, 0.00028687321428308925, 0.00028625508509847093, 0.000287666265037509, 0.000286953583652998, 0.0002824451205059004, 0.00029258009163074734, 0.00028312016732020775, 0.00028092280679890965, 0.0002777636454639745, 0.0002779260377028542, 0.00027992516464644637, 0.0002763189064805903, 0.00027819560462742497, 0.00028030821749960746, 0.00027963254188988207, 0.0002782562484521837, 61.47411282787846, 43.70942420325557, 38.37213482494096, 18.83266366852078, 16.169092560734736, 15.282024524982944, 15.28139818796686, 14.391073954354333, 280.04348012757106, 13.501504343652753, 13.501310657105611, 13.501090558756584, 12.615945553722856, 11.726443859083261, 10.838125664709002, 10.837682952601247, 9.949161010041031, 9.948660443510104, 9.948855387762098, 33.93180281562609, 9.062641962456954, 9.06104782155758, 9.061696797260995, 9.060556058960612, 8.171928469192865, 7.283198376479714, 7.2835958112128125, 6.3959435715574635, 6.39550211715456, 6.395561229282584, 196.51463233387955, 46.376699251829514, 57.03923422680003, 31.273897668196405, 49.03689593749877, 19.718949411854886, 78.35956011404092, 54.36597753395199, 109.47674775773073, 18.831896468561315, 43.71178868837654, 78.36597440878397, 17.94687471860304, 21.498406832585495, 23.27673609206424, 51.7160386890522, 51.71413200849721, 58.823439483345346, 43.72990969987807, 17.94908953684667, 75.72636383612534, 18.837465585644104, 74.85573022966912, 75.75449617824543, 38.40865354301137, 40.17749970790922, 40.20617789393489, 33.979623269492784, 22.402880245778274, 20.647218600839516, 211.30735934922268, 135.51449713611763, 90.40375209548999, 85.60698733792927, 80.81151505981038, 66.40757130770508, 57.772011865802845, 52.01424755286307, 45.29570407843749, 147.9830089564452, 41.448732407107116, 36.65900157668207, 35.694584048212654, 34.73920266936682, 30.901825603372604, 30.897841703590235, 104.77748320677034, 29.9386426542544, 28.976189993375723, 28.975601653745414, 28.97816793518047, 26.10040642562545, 24.18357910037946, 23.225319526707263, 23.225041232723402, 79.84088541194285, 23.22127959457915, 22.25897448554426, 21.302965544426097, 21.299521422907723, 127.84598500744504, 102.87947341096991, 82.72785116815868, 291.91202540148606, 180.60967265560797, 401.3425690764334, 124.97231759461901, 112.46684683903898, 84.64293215196233, 130.7099999148443, 55.84457014652816, 148.961796913853, 87.5254227914981, 51.05723376501123, 65.44864868460826, 167.1787940906652, 134.55041206623295, 63.53244705388973, 117.26701089224147, 158.5417292464073, 105.76126177843902, 411.0810804184215, 215.13386053690806, 91.36694064784277, 242.08023397984587, 104.81476339413841, 148.99737371791045, 173.01168657277796, 96.15293972404129, 131.7505131043232, 100.00266818678224, 106.75623934827699, 97.15545551212662, 95.22957896304305, 24.65672159578502, 87.97272605865501, 9.456518591887471, 8.610621132464175, 8.609702220004863, 7.768343027581373, 6.924315438091776, 5.235198443207663, 5.234800911804436, 4.390708366203199, 4.390901502375138, 4.390334219000162, 4.38949671820077, 13.677864723011936, 11.988677575527253, 24.6534356826176, 2.7019228640088158, 2.7018527114082462, 2.701404947278685, 2.7016688856123094, 2.701558460222524, 2.701472501634789, 2.7012167910753053, 2.701220904962376, 16.213002160890714, 33.94848204178669, 8.61226062472193, 6.92370138631642, 11.147322713511208, 1.8577071183158387, 5.234213708555224, 44.09525718704124, 19.591360866393284, 26.34540728208785, 24.664182021727072, 6.924492551756177, 6.923781931894852, 29.7346699535308, 9.459268400613501, 46.63575133892647, 23.817452257993313, 88.04786035994651, 53.39603700566428, 40.74194902251242, 59.33606728760921, 40.74559349341608, 47.48997097537289, 35.66255084435487, 26.354963625232106, 19.595968419912175, 85.62771689170505, 56.00227367117957, 22.984673334876522, 26.37527843262667, 22.99729733865309, 35.75908082273858, 22.15660243073129, 17.916345410305144, 29.896602941601074, 22.184956206502232, 21.30852677636438, 21.342664244315614, 20.472818765653443, 0.0002363858981142022, 0.0002363862241493906, 0.00023638182267434764, 0.000236376769128928, 0.0002363763732290564, 0.00023637439372969847, 0.0002363749293589365, 0.0002363692703195956, 0.00023636605654416744, 0.0002363689209961795, 0.00023636675519099964, 0.00023636410033303724, 0.00023636307565101666, 0.00023636258659823412, 0.00023634668073868744, 0.00023635771935863638, 0.0002363620043925406, 0.00023635001095525433, 0.0002363561124709223, 0.00023635972214622206, 0.00023635797552914152, 0.00023635683440598225, 0.00023635590287687263, 0.00023635171099587937, 0.00023635406310688114, 0.00023635508778890171, 0.00023635459873611918, 0.000236353806936376, 0.00023635180414879032, 0.0002363484972204512, 0.00023635066302563106, 0.0002363504534315814, 0.0002990515147821261, 0.00029525003763870107, 0.0002994294827183521, 0.0002911134196098646, 0.000281319392416063, 0.00027876483685053996, 0.0002741068885555078, 0.0002705201987365321, 0.00026770528078487183, 0.00027086812485897305, 0.000267077500029675, 0.0002640599977849014, 0.00026431116132108115, 0.00026400319779744266, 0.00025992324002669845, 0.0002619534145681919, 0.00025985477263714183, 0.00026249460969265004, 0.00025957540705716847, 0.0002591960651155058, 0.0002602625960813309, 0.00025815631561158206, 0.0002576096477536049, 0.0002574375710388314, 0.00025647867826162214, 0.00025593741327248077, 0.00025494060726051026, 0.0002554561154697708, 0.00025442109347607834, 0.00025470737565969054, 0.0002549664339050743, 0.00025472889398212267], \"Total\": [287.0, 209.0, 253.0, 91.0, 148.0, 211.0, 433.0, 119.0, 180.0, 572.0, 87.0, 304.0, 136.0, 135.0, 90.0, 149.0, 61.0, 158.0, 309.0, 103.0, 72.0, 130.0, 102.0, 60.0, 106.0, 90.0, 85.0, 81.0, 63.0, 104.0, 1.3839241058727076, 1.3839319131133945, 1.383936274602086, 1.3839564065762573, 1.3839425792028766, 1.3839742933146244, 1.383937626899273, 1.3839587788604737, 1.3839667061213494, 1.3839595168638572, 1.3839837489081865, 1.3839873062712134, 1.3839428435644152, 1.3839932920137152, 1.3839891838645346, 1.383978659976036, 1.3839715440909197, 1.3840217266602757, 1.3839763274259202, 1.383968525464509, 1.383991285968076, 1.3839848102646792, 1.3840086596564034, 1.3839937899697168, 1.3839952364551251, 1.3839720542119456, 1.3839857460717095, 1.383994183048421, 1.3839852526056842, 1.3839933726703058, 572.4640204595207, 433.2547648292339, 352.69568855556156, 274.2151788670354, 211.77540112395855, 309.4443490973062, 189.59323784836954, 287.40788087829173, 198.68104130246397, 132.12246484662504, 304.7409278839388, 151.67702371982028, 186.09370135640316, 162.17757491062213, 191.41256960523248, 135.92744047505633, 106.02838366302775, 138.37012155091477, 131.45612028542644, 130.02271848373925, 156.03747309670422, 149.25074453460869, 104.96259038481489, 253.7785634207427, 119.18408719589944, 148.08812597428638, 119.011614534161, 123.03568570892965, 158.03813911551052, 108.10966826935933, 138.77821302199442, 209.7423666750287, 180.51427110924143, 142.80155637429877, 61.89411876803836, 44.114363500247315, 38.7720818779211, 19.211289012804137, 16.544583124339677, 15.655651974699978, 15.655690549480957, 14.767099425760534, 287.40788087829173, 13.876665332290308, 13.87662294739245, 13.876524577187826, 12.987892657122057, 12.097967505486961, 11.209375056016095, 11.209204429990404, 10.32032408498705, 10.320203793386442, 10.320765449289086, 35.28689121202995, 9.430949046906548, 9.431152790232167, 9.432060427432175, 9.430879174400557, 8.541593904961877, 7.652069958839719, 7.652527792186935, 6.763654796441561, 6.763342405932039, 6.763449615414425, 209.7423666750287, 49.31237684901539, 60.82955564869218, 33.35224486516113, 52.82434864343649, 20.945287311228135, 87.23932794870326, 63.233693623099064, 148.08812597428638, 21.13116693721864, 58.81982182820787, 119.35699535019786, 20.857139223405106, 26.563181187898262, 30.76324355975733, 100.96345177608842, 103.24438206630654, 142.80155637429877, 90.59283038010282, 22.6602048179401, 304.7409278839388, 24.74204861193588, 352.69568855556156, 572.4640204595207, 156.03747309670422, 198.68104130246397, 274.2151788670354, 253.7785634207427, 94.0486567002234, 136.64162472876208, 211.77540112395855, 135.92744047505633, 90.8023809633576, 85.99965072078344, 81.19722587411968, 66.79226427282308, 58.152013173363514, 52.39157136866004, 45.66655648379494, 149.25074453460869, 41.82419236749461, 37.02481076565128, 36.060316968372426, 35.103627684788485, 31.265620136622925, 31.265742727740093, 106.02838366302775, 30.302947860770363, 29.3401665100853, 29.34230818050647, 29.345994889869083, 26.46017601695225, 24.54289547148967, 23.583935620372944, 23.583820283424206, 81.0748490464193, 23.58256066229313, 22.620422828536967, 21.662296954227653, 21.660543901111332, 130.02271848373925, 104.96259038481489, 84.85336516056114, 309.4443490973062, 189.59323784836954, 433.2547648292339, 131.45612028542644, 117.95347419144797, 88.41553592255359, 138.77821302199442, 57.9571901859207, 162.17757491062213, 92.98550669238138, 53.117910942606656, 69.21216138531136, 191.41256960523248, 151.67702371982028, 67.2934054671483, 132.12246484662504, 186.09370135640316, 119.011614534161, 572.4640204595207, 274.2151788670354, 102.11995675132516, 352.69568855556156, 123.03568570892965, 198.68104130246397, 304.7409278839388, 119.18408719589944, 253.7785634207427, 138.37012155091477, 180.51427110924143, 156.03747309670422, 158.03813911551052, 25.047802238347536, 91.16274453142907, 9.835339601668649, 8.990091806395089, 8.990126086946939, 8.144691402784515, 7.299548018970117, 5.60945943590189, 5.609760558298857, 4.7641826059573775, 4.764442546555168, 4.764282113774666, 4.764646690673895, 15.01882715501521, 13.328943833641706, 27.714188388065352, 3.0743775767064374, 3.074578792473733, 3.074083223062529, 3.074413702521869, 3.0743052733523197, 3.0743920828832425, 3.074469926580201, 3.0745031715771196, 18.513526011712177, 38.78966288030549, 9.94803270887233, 8.257948543350315, 13.37110666360532, 2.2292005009089637, 6.5675043425813096, 72.0424694267779, 29.756925242343538, 41.92303973901551, 39.378165404412506, 9.077538006600067, 9.218236777497873, 52.12584569601789, 13.531360875645209, 90.59283038010282, 42.15461859549032, 253.7785634207427, 136.64162472876208, 103.24438206630654, 180.51427110924143, 119.35699535019786, 158.03813911551052, 102.88959636295942, 69.66488448684352, 43.83823325626077, 572.4640204595207, 304.7409278839388, 74.3569207246178, 111.49173353212475, 105.01057522915517, 352.69568855556156, 100.96345177608842, 60.03580533175701, 433.2547648292339, 138.37012155091477, 119.92944472877417, 191.41256960523248, 156.03747309670422, 1.3839643671882833, 1.3839905914816726, 1.3839831704581453, 1.3839564305185357, 1.3839767192867012, 1.3840215018597979, 1.3840337038635486, 1.3840050020586803, 1.38398706937595, 1.384035019360145, 1.3840275373199156, 1.3840122424965635, 1.3840179844725538, 1.3840168813478104, 1.3839428435644152, 1.3840140291509488, 1.3840407135158732, 1.3839710415141073, 1.3840113598598205, 1.3840384140537954, 1.384031645406028, 1.3840249814814252, 1.3840228352108033, 1.384007724495463, 1.3840218009003593, 1.3840345445915494, 1.3840332037399123, 1.3840287268318454, 1.3840179604983922, 1.38400121683199, 1.3840147138472252, 1.3840162370075182, 433.2547648292339, 352.69568855556156, 572.4640204595207, 304.7409278839388, 274.2151788670354, 309.4443490973062, 253.7785634207427, 186.09370135640316, 149.25074453460869, 287.40788087829173, 211.77540112395855, 158.03813911551052, 198.68104130246397, 191.41256960523248, 106.02838366302775, 162.17757491062213, 117.95347419144797, 209.7423666750287, 142.80155637429877, 138.77821302199442, 189.59323784836954, 151.67702371982028, 156.03747309670422, 180.51427110924143, 136.64162472876208, 130.02271848373925, 95.02549979932112, 138.37012155091477, 100.96345177608842, 119.18408719589944, 148.08812597428638, 131.45612028542644], \"Category\": [\"Default\", \"Default\", \"Default\", \"Default\", \"Default\", \"Default\", \"Default\", \"Default\", \"Default\", \"Default\", \"Default\", \"Default\", \"Default\", \"Default\", \"Default\", \"Default\", \"Default\", \"Default\", \"Default\", \"Default\", \"Default\", \"Default\", \"Default\", \"Default\", \"Default\", \"Default\", \"Default\", \"Default\", \"Default\", \"Default\", \"Topic1\", \"Topic1\", \"Topic1\", \"Topic1\", \"Topic1\", \"Topic1\", \"Topic1\", \"Topic1\", \"Topic1\", \"Topic1\", \"Topic1\", \"Topic1\", \"Topic1\", \"Topic1\", \"Topic1\", \"Topic1\", \"Topic1\", \"Topic1\", \"Topic1\", \"Topic1\", \"Topic1\", \"Topic1\", \"Topic1\", \"Topic1\", \"Topic1\", \"Topic1\", \"Topic1\", \"Topic1\", \"Topic1\", \"Topic1\", \"Topic1\", \"Topic1\", \"Topic1\", \"Topic1\", \"Topic1\", \"Topic1\", \"Topic1\", \"Topic1\", \"Topic1\", \"Topic1\", \"Topic1\", \"Topic1\", \"Topic1\", \"Topic1\", \"Topic1\", \"Topic1\", \"Topic1\", \"Topic1\", \"Topic1\", \"Topic1\", \"Topic1\", \"Topic1\", \"Topic1\", \"Topic1\", \"Topic1\", \"Topic1\", \"Topic1\", \"Topic1\", \"Topic1\", \"Topic1\", \"Topic1\", \"Topic1\", \"Topic1\", \"Topic1\", \"Topic2\", \"Topic2\", \"Topic2\", \"Topic2\", \"Topic2\", \"Topic2\", \"Topic2\", \"Topic2\", \"Topic2\", \"Topic2\", \"Topic2\", \"Topic2\", \"Topic2\", \"Topic2\", \"Topic2\", \"Topic2\", \"Topic2\", \"Topic2\", \"Topic2\", \"Topic2\", \"Topic2\", \"Topic2\", \"Topic2\", \"Topic2\", \"Topic2\", \"Topic2\", \"Topic2\", \"Topic2\", \"Topic2\", \"Topic2\", \"Topic2\", \"Topic2\", \"Topic2\", \"Topic2\", \"Topic2\", \"Topic2\", \"Topic2\", \"Topic2\", \"Topic2\", \"Topic2\", \"Topic2\", \"Topic2\", \"Topic2\", \"Topic2\", \"Topic2\", \"Topic2\", \"Topic2\", \"Topic2\", \"Topic2\", \"Topic2\", \"Topic2\", \"Topic2\", \"Topic2\", \"Topic2\", \"Topic2\", \"Topic2\", \"Topic2\", \"Topic2\", \"Topic2\", \"Topic2\", \"Topic3\", \"Topic3\", \"Topic3\", \"Topic3\", \"Topic3\", \"Topic3\", \"Topic3\", \"Topic3\", \"Topic3\", \"Topic3\", \"Topic3\", \"Topic3\", \"Topic3\", \"Topic3\", \"Topic3\", \"Topic3\", \"Topic3\", \"Topic3\", \"Topic3\", \"Topic3\", \"Topic3\", \"Topic3\", \"Topic3\", \"Topic3\", \"Topic3\", \"Topic3\", \"Topic3\", \"Topic3\", \"Topic3\", \"Topic3\", \"Topic3\", \"Topic3\", \"Topic3\", \"Topic3\", \"Topic3\", \"Topic3\", \"Topic3\", \"Topic3\", \"Topic3\", \"Topic3\", \"Topic3\", \"Topic3\", \"Topic3\", \"Topic3\", \"Topic3\", \"Topic3\", \"Topic3\", \"Topic3\", \"Topic3\", \"Topic3\", \"Topic3\", \"Topic3\", \"Topic3\", \"Topic3\", \"Topic3\", \"Topic3\", \"Topic3\", \"Topic3\", \"Topic3\", \"Topic3\", \"Topic3\", \"Topic3\", \"Topic3\", \"Topic3\", \"Topic4\", \"Topic4\", \"Topic4\", \"Topic4\", \"Topic4\", \"Topic4\", \"Topic4\", \"Topic4\", \"Topic4\", \"Topic4\", \"Topic4\", \"Topic4\", \"Topic4\", \"Topic4\", \"Topic4\", \"Topic4\", \"Topic4\", \"Topic4\", \"Topic4\", \"Topic4\", \"Topic4\", \"Topic4\", \"Topic4\", \"Topic4\", \"Topic4\", \"Topic4\", \"Topic4\", \"Topic4\", \"Topic4\", \"Topic4\", \"Topic4\", \"Topic4\", \"Topic4\", \"Topic4\", \"Topic4\", \"Topic4\", \"Topic4\", \"Topic4\", \"Topic4\", \"Topic4\", \"Topic4\", \"Topic4\", \"Topic4\", \"Topic4\", \"Topic4\", \"Topic4\", \"Topic4\", \"Topic4\", \"Topic4\", \"Topic4\", \"Topic4\", \"Topic4\", \"Topic4\", \"Topic4\", \"Topic4\", \"Topic4\", \"Topic4\", \"Topic4\", \"Topic4\", \"Topic4\", \"Topic4\", \"Topic4\", \"Topic4\", \"Topic5\", \"Topic5\", \"Topic5\", \"Topic5\", \"Topic5\", \"Topic5\", \"Topic5\", \"Topic5\", \"Topic5\", \"Topic5\", \"Topic5\", \"Topic5\", \"Topic5\", \"Topic5\", \"Topic5\", \"Topic5\", \"Topic5\", \"Topic5\", \"Topic5\", \"Topic5\", \"Topic5\", \"Topic5\", \"Topic5\", \"Topic5\", \"Topic5\", \"Topic5\", \"Topic5\", \"Topic5\", \"Topic5\", \"Topic5\", \"Topic5\", \"Topic5\", \"Topic5\", \"Topic5\", \"Topic5\", \"Topic5\", \"Topic5\", \"Topic5\", \"Topic5\", \"Topic5\", \"Topic5\", \"Topic5\", \"Topic5\", \"Topic5\", \"Topic5\", \"Topic5\", \"Topic5\", \"Topic5\", \"Topic5\", \"Topic5\", \"Topic5\", \"Topic5\", \"Topic5\", \"Topic5\", \"Topic5\", \"Topic5\", \"Topic5\", \"Topic5\", \"Topic5\", \"Topic5\", \"Topic5\", \"Topic5\", \"Topic5\", \"Topic5\"], \"logprob\": [30.0, 29.0, 28.0, 27.0, 26.0, 25.0, 24.0, 23.0, 22.0, 21.0, 20.0, 19.0, 18.0, 17.0, 16.0, 15.0, 14.0, 13.0, 12.0, 11.0, 10.0, 9.0, 8.0, 7.0, 6.0, 5.0, 4.0, 3.0, 2.0, 1.0, -8.132, -8.1321, -8.1322, -8.1322, -8.1323, -8.1322, -8.1323, -8.1323, -8.1323, -8.1323, -8.1323, -8.1324, -8.1324, -8.1324, -8.1324, -8.1324, -8.1324, -8.1324, -8.1324, -8.1324, -8.1324, -8.1324, -8.1324, -8.1324, -8.1324, -8.1325, -8.1325, -8.1325, -8.1325, -8.1325, -7.5346, -7.6075, -7.7396, -7.7687, -7.8104, -7.8033, -7.8551, -7.8381, -7.861, -7.8844, -7.8474, -7.8887, -7.9022, -7.9085, -7.9045, -7.9257, -7.9361, -7.9302, -7.9336, -7.9357, -7.9308, -7.9333, -7.9491, -7.9139, -7.9467, -7.9545, -7.9658, -7.9653, -7.9581, -7.9711, -7.9643, -7.9567, -7.9591, -7.9641, -4.4759, -4.8169, -4.9472, -5.6589, -5.8114, -5.8678, -5.8679, -5.9279, -2.9595, -5.9917, -5.9917, -5.9917, -6.0595, -6.1326, -6.2114, -6.2115, -6.297, -6.297, -6.297, -5.0701, -6.3903, -6.3905, -6.3904, -6.3906, -6.4938, -6.6089, -6.6089, -6.7388, -6.7389, -6.7389, -3.3138, -4.7577, -4.5507, -5.1517, -4.7019, -5.6129, -4.2332, -4.5987, -3.8988, -5.6589, -4.8169, -4.2331, -5.7071, -5.5265, -5.447, -4.6487, -4.6488, -4.5199, -4.8165, -5.7069, -4.2674, -5.6586, -4.2789, -4.267, -4.9462, -4.9012, -4.9005, -5.0687, -5.4853, -5.5669, -4.3298, -4.774, -5.1788, -5.2333, -5.291, -5.4873, -5.6266, -5.7316, -5.8699, -4.686, -5.9586, -6.0814, -6.1081, -6.1352, -6.2523, -6.2524, -5.0312, -6.2839, -6.3166, -6.3166, -6.3165, -6.4211, -6.4974, -6.5378, -6.5378, -5.303, -6.538, -6.5803, -6.6242, -6.6244, -4.8323, -5.0495, -5.2675, -4.0066, -4.4867, -3.6883, -4.855, -4.9604, -5.2446, -4.8101, -5.6605, -4.6794, -5.2111, -5.7501, -5.5018, -4.564, -4.7811, -5.5315, -4.9186, -4.6171, -5.0219, -3.6643, -4.3118, -5.1682, -4.1938, -5.0309, -4.6791, -4.5297, -5.1171, -4.8022, -5.0779, -5.0125, -5.1068, -5.1268, -5.0164, -3.7444, -5.9747, -6.0684, -6.0685, -6.1714, -6.2864, -6.566, -6.5661, -6.7419, -6.7419, -6.742, -6.7422, -5.6056, -5.7375, -5.0165, -7.2275, -7.2275, -7.2277, -7.2276, -7.2276, -7.2276, -7.2277, -7.2277, -5.4356, -4.6966, -6.0682, -6.2865, -5.8102, -7.6021, -6.5662, -4.4351, -5.2463, -4.9501, -5.0161, -6.2864, -6.2865, -4.8291, -5.9744, -4.3791, -5.051, -3.7435, -4.2437, -4.5142, -4.1382, -4.5141, -4.3609, -4.6473, -4.9498, -5.2461, -3.7714, -4.196, -5.0866, -4.949, -5.086, -4.6446, -5.1233, -5.3357, -4.8237, -5.122, -5.1623, -5.1607, -5.2023, -8.1271, -8.1271, -8.1271, -8.1272, -8.1272, -8.1272, -8.1272, -8.1272, -8.1272, -8.1272, -8.1272, -8.1272, -8.1272, -8.1272, -8.1273, -8.1272, -8.1272, -8.1273, -8.1272, -8.1272, -8.1272, -8.1272, -8.1273, -8.1273, -8.1273, -8.1273, -8.1273, -8.1273, -8.1273, -8.1273, -8.1273, -8.1273, -7.892, -7.9048, -7.8907, -7.9189, -7.9531, -7.9622, -7.9791, -7.9922, -8.0027, -7.991, -8.005, -8.0164, -8.0155, -8.0166, -8.0322, -8.0244, -8.0325, -8.0224, -8.0335, -8.035, -8.0309, -8.039, -8.0411, -8.0418, -8.0455, -8.0477, -8.0516, -8.0495, -8.0536, -8.0525, -8.0515, -8.0524], \"loglift\": [30.0, 29.0, 28.0, 27.0, 26.0, 25.0, 24.0, 23.0, 22.0, 21.0, 20.0, 19.0, 18.0, 17.0, 16.0, 15.0, 14.0, 13.0, 12.0, 11.0, 10.0, 9.0, 8.0, 7.0, 6.0, 5.0, 4.0, 3.0, 2.0, 1.0, 1.6764, 1.6762, 1.6762, 1.6761, 1.6761, 1.6761, 1.6761, 1.6761, 1.6761, 1.676, 1.676, 1.676, 1.676, 1.6759, 1.6759, 1.6759, 1.6759, 1.6759, 1.6759, 1.6759, 1.6759, 1.6759, 1.6759, 1.6759, 1.6759, 1.6759, 1.6759, 1.6759, 1.6758, 1.6758, -3.7512, -3.5456, -3.4719, -3.2493, -3.0326, -3.4047, -2.9667, -3.3657, -3.0194, -2.6348, -3.4336, -2.7772, -2.9952, -2.8639, -3.0256, -2.7045, -2.4665, -2.7268, -2.679, -2.6701, -2.8476, -2.8056, -2.4694, -3.317, -2.5941, -2.819, -2.6118, -2.6444, -2.8876, -2.5209, -2.7639, -3.1693, -3.0217, -2.7922, 1.532, 1.5296, 1.5284, 1.5189, 1.5158, 1.5146, 1.5146, 1.513, 1.5128, 1.5114, 1.5114, 1.5114, 1.5097, 1.5076, 1.5051, 1.5051, 1.5022, 1.5021, 1.5021, 1.4996, 1.499, 1.4988, 1.4987, 1.4987, 1.4946, 1.4894, 1.4894, 1.4829, 1.4829, 1.4829, 1.4737, 1.4774, 1.4745, 1.4745, 1.4644, 1.4785, 1.4315, 1.3877, 1.2367, 1.4236, 1.2419, 1.1181, 1.3885, 1.3273, 1.2599, 0.8698, 0.8474, 0.6519, 0.8105, 1.3057, 0.1465, 1.2661, -0.0112, -0.4837, 0.137, -0.0596, -0.3811, -0.4719, 0.1042, -0.351, 0.448, 0.4472, 0.4458, 0.4456, 0.4454, 0.4444, 0.4437, 0.443, 0.4421, 0.4417, 0.4412, 0.4403, 0.44, 0.4398, 0.4385, 0.4384, 0.4383, 0.4381, 0.4377, 0.4376, 0.4376, 0.4365, 0.4355, 0.4349, 0.4349, 0.4349, 0.4348, 0.4341, 0.4335, 0.4334, 0.4333, 0.4302, 0.4248, 0.3919, 0.4017, 0.3737, 0.3996, 0.4026, 0.4066, 0.3903, 0.4131, 0.3652, 0.3897, 0.4106, 0.3943, 0.3148, 0.3304, 0.3927, 0.3309, 0.29, 0.3322, 0.1191, 0.2076, 0.3389, 0.0739, 0.2899, 0.1624, -0.1159, 0.2355, -0.2053, 0.1255, -0.0751, -0.0236, -0.0563, 1.8961, 1.8762, 1.8726, 1.8687, 1.8686, 1.8646, 1.8591, 1.8428, 1.8427, 1.8302, 1.8302, 1.8301, 1.8299, 1.8183, 1.8059, 1.7948, 1.7827, 1.7826, 1.7826, 1.7826, 1.7826, 1.7826, 1.7824, 1.7824, 1.7792, 1.7786, 1.7677, 1.7356, 1.73, 1.7296, 1.6849, 1.421, 1.4939, 1.4473, 1.444, 1.6411, 1.6256, 1.3505, 1.5539, 1.2479, 1.3409, 0.8533, 0.9722, 0.982, 0.7993, 0.8371, 0.7095, 0.8523, 0.9398, 1.1067, 0.0119, 0.2178, 0.7378, 0.4703, 0.3932, -0.3769, 0.3952, 0.7026, -0.7617, 0.0813, 0.1841, -0.2819, -0.1191, 1.6812, 1.6812, 1.6812, 1.6812, 1.6812, 1.6811, 1.6811, 1.6811, 1.6811, 1.6811, 1.6811, 1.6811, 1.6811, 1.6811, 1.6811, 1.6811, 1.6811, 1.6811, 1.6811, 1.681, 1.681, 1.681, 1.681, 1.681, 1.681, 1.681, 1.681, 1.681, 1.681, 1.681, 1.681, 1.681, -3.83, -3.6371, -4.1074, -3.505, -3.4337, -3.5637, -3.3822, -3.0852, -2.875, -3.5186, -3.2273, -2.946, -3.1739, -3.1378, -2.5626, -2.9798, -2.6695, -3.2349, -2.8617, -2.8346, -3.1425, -2.9275, -2.958, -3.1043, -2.8296, -2.7821, -2.4724, -2.8462, -2.5351, -2.6999, -2.916, -2.7978]}, \"token.table\": {\"Topic\": [2, 4, 4, 4, 4, 4, 4, 4, 4, 4, 4, 4, 4, 4, 2, 3, 4, 4, 2, 3, 4, 2, 3, 4, 2, 3, 4, 4, 2, 3, 4, 4, 2, 3, 4, 4, 2, 3, 4, 3, 4, 2, 3, 4, 3, 4, 3, 4, 2, 2, 3, 4, 2, 2, 3, 4, 3, 2, 2, 4, 4, 4, 3, 4, 4, 2, 4, 3, 4, 4, 4, 3, 2, 3, 4, 2, 3, 4, 3, 2, 3, 4, 2, 3, 4, 4, 3, 2, 4, 2, 3, 4, 2, 3, 4, 2, 2, 3, 4, 3, 4, 4, 2, 3, 4, 4, 4, 4, 4, 2, 4, 4, 3, 4, 4, 4, 4, 4, 2, 3, 4, 3, 3, 3, 4, 4, 2, 3, 4, 2, 3, 4, 3, 4, 2, 4, 2, 3, 2, 3, 4, 3, 2, 3, 4, 2, 4, 2, 4, 3, 2, 4, 4, 2, 4, 4, 2, 4, 2, 3, 4, 2, 3, 4, 2, 3, 2, 4, 4, 2, 4, 4, 3, 4, 3, 2, 4, 3, 3, 4, 2, 3, 4, 4, 2, 4, 2, 4, 3, 4, 2, 4, 3, 2, 3, 4, 2, 3, 4, 4, 2, 4, 2, 3, 4, 3, 3, 4, 2, 3, 4, 2, 3, 4, 4, 2, 2, 3, 4, 2, 4, 4, 4, 4, 2, 3, 4, 2, 3, 4, 2, 3, 4, 4, 2, 3, 4, 2, 3, 4, 4, 3, 3, 2, 3, 4, 3, 2, 3, 4, 2, 3, 4, 4, 2, 3, 4, 2, 2, 3, 4, 2, 4, 2, 3, 4, 2, 3, 4, 4, 2, 3, 4, 2, 3, 4, 4, 3, 2, 3, 4, 4, 4, 3, 4, 2, 4, 2, 4, 2, 3, 4, 2, 2, 3, 4, 3, 4, 2, 3, 4, 2, 3, 4, 4, 2, 2, 3, 4, 2, 3, 4, 2, 3, 4, 4, 4, 3, 2, 3, 4, 2, 4, 4, 2, 4, 4, 2, 3, 4, 4, 2, 4, 2, 3, 4, 3, 4, 2, 3, 4, 4, 4, 2, 3, 4, 2, 3, 3, 2, 3, 4, 2, 3, 4, 4, 3, 4, 3, 4, 2, 2, 3, 4, 3, 4, 2, 4, 4, 2, 4, 2, 4, 4], \"Freq\": [0.887135330415547, 0.7225268318967042, 0.7225369612310225, 0.8971826442639383, 0.7225557115271733, 0.7225648735169566, 0.7225733314571332, 0.7225766231812396, 0.7225582088516592, 0.7225829767372947, 0.7225314312445488, 0.7225260183771719, 0.72257319343077, 0.722525070545044, 0.21264790705879283, 0.6861439134430383, 0.10207099538822056, 0.7225345394820332, 0.015137471150887996, 0.8855420623269479, 0.09839356248077198, 0.09230138920619234, 0.890049110202569, 0.026371825487483527, 0.5150378586037544, 0.2674235035057955, 0.21790063248620378, 0.7225393199048422, 0.05552280525399669, 0.33313683152398016, 0.6107508577939637, 0.9757674110516849, 0.021938786620344503, 0.010969393310172252, 0.965306611295158, 0.8395166021080682, 0.0336101649881562, 0.8906693721861394, 0.07562287122335146, 0.9915005144750866, 0.7225507942104096, 0.7360482096918862, 0.24985122714311733, 0.013505471737465802, 0.9463840455386812, 0.05377182076924325, 0.12109545061348762, 0.8476681542944132, 0.9543118762914334, 0.9147304250429313, 0.9903008644713844, 0.009431436804489376, 1.008887918297107, 0.10209910309436834, 0.854408283789714, 0.0483627330447008, 0.988138382768595, 1.008890999854596, 0.48568964911889817, 0.518804852467914, 0.7225253183945028, 0.7225644882055983, 0.15226484031633808, 0.7613242015816905, 0.7225374220203546, 0.8940921695988306, 0.10316448110755738, 0.10052238761822047, 0.9047014885639841, 0.7225597848508617, 1.0010983064038887, 0.9925260617608757, 0.07478812525831463, 0.07478812525831463, 0.8226693778414609, 0.13275943515016767, 0.7179490506147226, 0.15022778188045288, 0.9900026933959599, 0.045622276525351745, 0.5018450417788692, 0.45622276525351746, 0.7476454800782857, 0.09751897566238509, 0.13002530088318012, 0.7225463894634112, 0.9884061152151822, 0.9328286920916988, 0.060836653832067315, 0.9813363712565832, 0.9813020012404455, 0.019054407791076613, 0.15368669716629657, 0.4610600914988897, 0.38787594999112945, 1.0088981518481335, 0.0253947838790871, 0.35552697430721936, 0.6348695969771775, 0.9752448807526514, 0.8395525732369503, 0.722531971208446, 0.11427420499138755, 0.6665995291164273, 0.21902555956682612, 0.7225220979661097, 0.7225489994131922, 0.7225510518390714, 0.8395983804227394, 0.10824780282188957, 0.9020650235157465, 0.9758026689902624, 0.9391413112810938, 0.05779331146345193, 0.9980915595750611, 0.7225501033408552, 0.7225521388883408, 0.975900710004616, 0.98008665409425, 0.06658309531620596, 0.9321633344268834, 0.9970479494108414, 0.9882098088285115, 0.9975710269409273, 0.7225388316921817, 0.7225339635894239, 0.09491379792213611, 0.6011207201735287, 0.29739656682269316, 0.3339452503242735, 0.023853232166019537, 0.620184036316508, 0.9495269280344808, 0.04238959500153932, 0.9689203818393934, 0.7225339761052629, 0.954192360115127, 0.9694262821884917, 0.006463197682666652, 0.9436268616693312, 0.051705581461333215, 0.9973859344660978, 0.5036593658588037, 0.10654332739320847, 0.39711603846559523, 0.9392475307825076, 0.06198080152371877, 0.9890018305037567, 0.7225320099656656, 0.9963385685030308, 0.9813214336241053, 0.7225661120886607, 1.0011021237400337, 1.000932202259256, 0.7225356710408393, 0.7225518368903477, 0.9919021517091587, 0.722558471242266, 0.015672951918398945, 0.872460990124208, 0.10971066342879261, 0.24353124442389235, 0.6216455449767778, 0.12817433917046966, 0.9635306152560352, 0.028339135742824564, 0.653501705292975, 0.3435073066283587, 0.7225407411913394, 0.9370444908259903, 0.06575750812813967, 0.7225619558628085, 0.9916198439176385, 0.006700134080524584, 0.9993298881172324, 0.3360562261913469, 0.6721124523826938, 1.0000040614027341, 0.9752401113294885, 0.722525757290799, 0.05741773677605703, 0.5741773677605703, 0.3732152890443707, 0.9758302228485934, 0.8630138489846714, 0.14383564149744524, 0.914785154559853, 0.9758072732282553, 0.9601281205336739, 0.03765208315818329, 0.9542841898735104, 0.7225321273233373, 0.9802938844520244, 0.011785036434415785, 0.9781580240565101, 0.011785036434415785, 0.06670588709963896, 0.7504412298709382, 0.17510295363655226, 0.9757958070311653, 0.9974075677132535, 0.7225458395083314, 0.14780479350009465, 0.14780479350009465, 0.6651215707504259, 0.9778797301190348, 0.07502469906700643, 0.9002963888040771, 0.04859577816168803, 0.6123068048372692, 0.3498896027641538, 0.09994036003754901, 0.599642160225294, 0.299821080112647, 0.7225789003957043, 0.9581180691194299, 0.7679234770735257, 0.16166810043653174, 0.08083405021826587, 0.853975102606911, 0.1423291837678185, 0.7225479019548297, 0.8913036390837037, 0.722534875864009, 0.048962026219572574, 0.8911088771962209, 0.05875443146348709, 0.01849824182938568, 0.9187460108594888, 0.06166080609795227, 0.14732887519208837, 0.8208323046416351, 0.04209396434059667, 0.7225232983751068, 0.1458708455354897, 0.7840557947532572, 0.06928865162935761, 0.14793512013143606, 0.5513945386717162, 0.3093188875475481, 0.7225567735113025, 0.9983273311650219, 0.9911634369622818, 0.7480471486042344, 0.05100321467756143, 0.20401285871024571, 1.0005338107205586, 0.1174653456630381, 0.8054766559751184, 0.0839038183307415, 0.09488877217425276, 0.3558328956534479, 0.5693326330455166, 0.7225289765089781, 0.201327714701805, 0.7499457372642236, 0.05033192867545125, 0.9543048059359515, 0.8991457999669207, 0.09464692631230744, 0.9757434115345183, 0.9670839017068668, 0.915067538539602, 0.7905679613994142, 0.15058437359988844, 0.03764609339997211, 0.007205742012555774, 0.9439522036448064, 0.05044019408789042, 0.7225303107821258, 0.08072347352466969, 0.6816648875416551, 0.23320114573793466, 0.00461622159144238, 0.9255524290841971, 0.06924332387163569, 0.722536028492045, 0.9915044021048605, 0.01725411457650212, 0.9662304162841188, 0.01725411457650212, 0.7225759171246111, 0.7225579425224846, 0.9613695049527791, 0.04524091788013078, 0.9548687350437348, 0.047743436752186744, 0.9294726674419981, 0.059965978544645034, 0.88709435661274, 0.9752969717480848, 0.7225468546491265, 0.9365933441711317, 0.15724773068069967, 0.7399893208503514, 0.10174853161692332, 0.9510590161950401, 0.059441188512190005, 0.0191843410240612, 0.40287116150528524, 0.5755302307218361, 0.24939216575774406, 0.5676953246853911, 0.18376264845307458, 0.7225482645293275, 0.9855540593220292, 0.11563189957965476, 0.7226993723728422, 0.1589938619220253, 0.4131607630756799, 0.5392098094377518, 0.04901907358525016, 0.2339214697145987, 0.5529052920526879, 0.2126558815587261, 0.7225660995883546, 0.7225499796629167, 0.9695047407799653, 0.016255446446094335, 0.8534109384199526, 0.13004357156875468, 0.12890032108370367, 0.876522183369185, 0.7225465946793598, 0.968973113341847, 0.722551282776547, 0.8395808443910268, 0.9689618191881179, 0.9883339722832751, 0.9822348821300894, 0.7225607347177886, 0.9276025404638535, 0.07572265636439621, 0.010548899437012276, 0.954675399049611, 0.036921148029542966, 0.21696123111982643, 0.7593643089193924, 0.13397506685239985, 0.5201384948387289, 0.34675899655915254, 0.722554493735702, 0.8913514853140388, 0.8871212681655136, 0.9867425094334261, 0.012334281367917827, 0.015381927276425324, 0.9844433456912207, 0.9725724477725383, 0.03042840448443883, 0.9508876401387134, 0.02282130336332912, 0.7943440999151687, 0.04413022777306493, 0.17652091109225973, 0.9589634840141268, 0.9854038374005389, 0.7225283555270428, 0.9826087318293941, 0.7225427173315805, 0.9480534799933449, 0.07755619494221401, 0.5927509184869214, 0.3268439643993305, 0.1080291241514309, 0.8642329932114472, 0.9742251991989436, 0.02435562997997359, 0.9757779622638769, 0.2203240568693677, 0.771134199042787, 0.9581204298767287, 0.7225468125404236, 0.7225555069419072], \"Term\": [\"-catch\", \"1.each\", \"1224/2009;(f)fishery\", \"1380/2013\", \"1380/2013.2.the\", \"199/2008\", \"1:(a)the\", \"2017;(b)the\", \"24.the\", \"25(2).if\", \"28(2);(g)he\", \"7.12.2013\", \"9(11);(4)primary\", \"accessible\", \"accordance\", \"accordance\", \"accordance\", \"accordingly.11.the\", \"account\", \"account\", \"account\", \"action\", \"action\", \"action\", \"activity\", \"activity\", \"activity\", \"adjust\", \"administrative\", \"administrative\", \"administrative\", \"advice\", \"agency\", \"agency\", \"agency\", \"agency.2.the\", \"agreement\", \"agreement\", \"agreement\", \"amount\", \"analytic\", \"annex\", \"annex\", \"annex\", \"application\", \"application\", \"aquaculture\", \"aquaculture\", \"arrival\", \"atlantic\", \"audit\", \"audit\", \"authorisation\", \"authority\", \"authority\", \"authority\", \"beneficiary\", \"bluefin\", \"board\", \"board\", \"board.4.when\", \"bodies.2.such\", \"border\", \"border\", \"branch\", \"catch\", \"catch\", \"chair\", \"chair\", \"character\", \"coast\", \"cohesion\", \"collection\", \"collection\", \"collection\", \"commission\", \"commission\", \"commission\", \"commitment\", \"common\", \"common\", \"common\", \"competent\", \"competent\", \"competent\", \"comprehensive\", \"conditionality\", \"contracting\", \"contracting\", \"contravention\", \"contribution\", \"contribution\", \"control\", \"control\", \"control\", \"convention\", \"coordination\", \"coordination\", \"coordination\", \"correction\", \"correspondent\", \"corruption\", \"council\", \"council\", \"council\", \"council.4.on\", \"data;(d)the\", \"data;(f)not\", \"database\", \"deployment\", \"deployment\", \"deputy\", \"development\", \"development\", \"director\", \"director.4.the\", \"director;(g)establish\", \"discharge\", \"division\", \"draft\", \"draft\", \"eafrd\", \"eligibility\", \"eligible\", \"ethics;(d)inform\", \"euratom\", \"european\", \"european\", \"european\", \"executive\", \"executive\", \"executive\", \"expenditure\", \"expenditure\", \"exploratory\", \"fight\", \"figure\", \"finance\", \"financial\", \"financial\", \"financial\", \"financing\", \"fishery\", \"fishery\", \"fishery\", \"fishing\", \"fishing\", \"flying\", \"focal\", \"funds\", \"greenland\", \"groups.1.each\", \"guard\", \"hours\", \"iii.3.for\", \"illicit\", \"image\", \"impartial\", \"implementation\", \"implementation\", \"implementation\", \"information\", \"information\", \"information\", \"infringement\", \"infringement\", \"inspection\", \"inspection\", \"inspections;(b)develop\", \"inspector\", \"inspector\", \"instructor\", \"instrument\", \"instrument\", \"interim\", \"international\", \"international\", \"investment\", \"irregularity\", \"it.2.the\", \"joint\", \"joint\", \"joint\", \"justice\", \"landing\", \"landing\", \"length\", \"liability\", \"local\", \"local\", \"logbook\", \"logistic\", \"major\", \"manage\", \"manage\", \"manage\", \"management\", \"management\", \"management\", \"mandatory\", \"master\", \"measures;(e)costs\", \"member\", \"member\", \"member\", \"milestone\", \"multiannual\", \"multiannual\", \"national\", \"national\", \"national\", \"necessary\", \"necessary\", \"necessary\", \"necessary.8.regional\", \"northern\", \"number\", \"number\", \"number\", \"observer\", \"observer\", \"occur\", \"office\", \"officials;(c)at\", \"operation\", \"operation\", \"operation\", \"operational\", \"operational\", \"operational\", \"operations\", \"operations\", \"operations\", \"ordinary\", \"paragraph\", \"paragraph\", \"paragraph\", \"parliament\", \"parliament\", \"parliament\", \"parties.2.member\", \"partner\", \"partnership\", \"party\", \"party\", \"party\", \"payment\", \"period\", \"period\", \"period\", \"plan\", \"plan\", \"plan\", \"plan;(c)the\", \"point\", \"point\", \"point\", \"port\", \"position\", \"position\", \"practical\", \"prawn\", \"primary\", \"prior\", \"prior\", \"prior\", \"priority\", \"priority\", \"priority\", \"privilege\", \"procedure\", \"procedure\", \"procedure\", \"programme\", \"programme\", \"programme\", \"programmes.1.joint\", \"programming\", \"project\", \"project\", \"project\", \"properly\", \"properties.1.member\", \"public\", \"public\", \"quantity\", \"quantity\", \"quota\", \"quota\", \"radio\", \"recipient\", \"recreation\", \"redfish\", \"refer\", \"refer\", \"refer\", \"region\", \"region\", \"regional\", \"regional\", \"regional\", \"regulation\", \"regulation\", \"regulation\", \"regulation;(c)he\", \"regulatory\", \"relevant\", \"relevant\", \"relevant\", \"report\", \"report\", \"report\", \"request\", \"request\", \"request\", \"request:(a)assist\", \"requested.5.in\", \"reserve\", \"rule\", \"rule\", \"rule\", \"scientific\", \"scientific\", \"sea.2.the\", \"secretary\", \"series;(g)the\", \"servant\", \"shark\", \"social\", \"socioeconomic\", \"spatial\", \"species\", \"species\", \"specific\", \"specific\", \"specific\", \"staff\", \"staff\", \"state\", \"state\", \"state\", \"states.1.member\", \"stecf\", \"stowage\", \"strategy\", \"strategy\", \"subparagraph\", \"subparagraph\", \"summary\", \"support\", \"support\", \"support\", \"surveillance\", \"surveillance\", \"surveillance\", \"survey\", \"territorial\", \"tfeu).6.the\", \"thematic\", \"thereof.12.where\", \"transhipment\", \"union\", \"union\", \"union\", \"user\", \"user\", \"vessel\", \"vessel\", \"vote.3.the\", \"waters\", \"waters\", \"weight\", \"work.4.each\", \"work.4.the\"]}, \"R\": 30, \"lambda.step\": 0.01, \"plot.opts\": {\"xlab\": \"PC1\", \"ylab\": \"PC2\"}, \"topic.order\": [1, 2, 3, 4, 5]};\n\nfunction LDAvis_load_lib(url, callback){\n  var s = document.createElement('script');\n  s.src = url;\n  s.async = true;\n  s.onreadystatechange = s.onload = callback;\n  s.onerror = function(){console.warn(\"failed to load library \" + url);};\n  document.getElementsByTagName(\"head\")[0].appendChild(s);\n}\n\nif(typeof(LDAvis) !== \"undefined\"){\n   // already loaded: just create the visualization\n   !function(LDAvis){\n       new LDAvis(\"#\" + \"ldavis_el1558818656014000484391625612\", ldavis_el1558818656014000484391625612_data);\n   }(LDAvis);\n}else if(typeof define === \"function\" && define.amd){\n   // require.js is available: use it to load d3/LDAvis\n   require.config({paths: {d3: \"https://d3js.org/d3.v5\"}});\n   require([\"d3\"], function(d3){\n      window.d3 = d3;\n      LDAvis_load_lib(\"https://cdn.jsdelivr.net/gh/bmabey/pyLDAvis@3.3.1/pyLDAvis/js/ldavis.v3.0.0.js\", function(){\n        new LDAvis(\"#\" + \"ldavis_el1558818656014000484391625612\", ldavis_el1558818656014000484391625612_data);\n      });\n    });\n}else{\n    // require.js not available: dynamically load d3 & LDAvis\n    LDAvis_load_lib(\"https://d3js.org/d3.v5.js\", function(){\n         LDAvis_load_lib(\"https://cdn.jsdelivr.net/gh/bmabey/pyLDAvis@3.3.1/pyLDAvis/js/ldavis.v3.0.0.js\", function(){\n                 new LDAvis(\"#\" + \"ldavis_el1558818656014000484391625612\", ldavis_el1558818656014000484391625612_data);\n            })\n         });\n}\n</script>"
     },
     "execution_count": 24,
     "metadata": {},
     "output_type": "execute_result"
    }
   ],
   "source": [
    "import pyLDAvis\n",
    "dictionary = gensim.corpora.Dictionary.load('dictionary.gensim')\n",
    "corpus = pickle.load(open('corpus.pkl', 'rb'))\n",
    "lda = gensim.models.ldamodel.LdaModel.load('model5.gensim')\n",
    "import pyLDAvis.gensim_models as gensimvis\n",
    "\n",
    "lda_display = gensimvis.prepare(lda, corpus, dictionary, sort_topics=False)\n",
    "pyLDAvis.display(lda_display)"
   ],
   "metadata": {
    "collapsed": false,
    "pycharm": {
     "name": "#%%\n"
    }
   }
  },
  {
   "cell_type": "markdown",
   "source": [
    "- Saliency: a measure of how much the term tells you about the topic.\n",
    "- Relevance: a weighted average of the probability of the word given the topic and the word given the topic normalized by the probability of the topic.\n",
    "\n",
    "The size of the bubble measures the importance of the topics, relative to the data.\n",
    "\n",
    "First, we got the most salient terms, means terms mostly tell us about what’s going on relative to the topics. We can also look at individual topic.\n",
    "\n",
    "\n",
    "\n",
    "\n",
    "\n",
    "\n"
   ],
   "metadata": {
    "collapsed": false,
    "pycharm": {
     "name": "#%% md\n"
    }
   }
  }
 ],
 "metadata": {
  "kernelspec": {
   "name": "multi_class",
   "language": "python",
   "display_name": "Python (multi_class)"
  },
  "language_info": {
   "codemirror_mode": {
    "name": "ipython",
    "version": 2
   },
   "file_extension": ".py",
   "mimetype": "text/x-python",
   "name": "python",
   "nbconvert_exporter": "python",
   "pygments_lexer": "ipython2",
   "version": "2.7.6"
  }
 },
 "nbformat": 4,
 "nbformat_minor": 0
}