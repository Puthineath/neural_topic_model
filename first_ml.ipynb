{
 "cells": [
  {
   "cell_type": "markdown",
   "metadata": {
    "collapsed": true,
    "pycharm": {
     "name": "#%% md\n"
    }
   },
   "source": [
    "let's get started!"
   ]
  },
  {
   "cell_type": "code",
   "execution_count": 6,
   "outputs": [
    {
     "name": "stdout",
     "output_type": "stream",
     "text": [
      "                                               title  \\\n",
      "0  (EU 17 2017 establishment Union framework coll...   \n",
      "1  Regulation (EU) 2019/833 European Parliament C...   \n",
      "2  Regulation (EU 1303/2013 European Parliament C...   \n",
      "3  Regulation (EU) 2019/473 European Parliament C...   \n",
      "\n",
      "                                             article  \n",
      "0  1.With view (EU Regulation management biologic...  \n",
      "1  1.This Regulation Union fishing vessels use pu...  \n",
      "2  Regulation common rules European Regional Deve...  \n",
      "3  Regulation provision European Fisheries Contro...  \n"
     ]
    }
   ],
   "source": [
    "import pandas as pd\n",
    "data = pd.read_csv(\"data/data1.csv\")\n",
    "print(data)"
   ],
   "metadata": {
    "collapsed": false,
    "pycharm": {
     "name": "#%%\n"
    }
   }
  },
  {
   "cell_type": "code",
   "execution_count": null,
   "outputs": [],
   "source": [],
   "metadata": {
    "collapsed": false,
    "pycharm": {
     "name": "#%%\n"
    }
   }
  }
 ],
 "metadata": {
  "kernelspec": {
   "name": "multi_class",
   "language": "python",
   "display_name": "Python (multi_class)"
  },
  "language_info": {
   "codemirror_mode": {
    "name": "ipython",
    "version": 2
   },
   "file_extension": ".py",
   "mimetype": "text/x-python",
   "name": "python",
   "nbconvert_exporter": "python",
   "pygments_lexer": "ipython2",
   "version": "2.7.6"
  }
 },
 "nbformat": 4,
 "nbformat_minor": 0
}