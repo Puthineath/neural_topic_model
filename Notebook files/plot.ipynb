{
 "cells": [
  {
   "cell_type": "code",
   "execution_count": 5,
   "id": "a1bf8546",
   "metadata": {},
   "outputs": [
    {
     "data": {
      "text/plain": [
       "tensor(0.0710, requires_grad=True)"
      ]
     },
     "execution_count": 5,
     "metadata": {},
     "output_type": "execute_result"
    }
   ],
   "source": [
    "import torch\n",
    "import matplotlib\n",
    "import matplotlib.pyplot as plt\n",
    "import numpy as np\n",
    "\n",
    "data=torch.load('/Users/neath/Documents/TrackSens/eurovoc_conversion/models/ntm_model1.pth')\n",
    "# losses = []\n",
    "\n",
    "data['losses'][0]\n",
    "# convert data from tensor to numpy array \n",
    "# for loss in data['losses']:\n",
    "#     losses.\n",
    "\n",
    "\n",
    "# epoch= []\n",
    "# for i in range(3):\n",
    "#     epoch.append(i)\n",
    "\n",
    "\n",
    "# fig, ax = plt.subplots()\n",
    "# ax.plot(epoch, loss)\n",
    "\n",
    "# ax.set(xlabel='epoch', ylabel='loss')\n",
    "# ax.grid()\n",
    "\n",
    "# # fig.savefig(\"test.png\")\n",
    "# plt.show()"
   ]
  },
  {
   "cell_type": "code",
   "execution_count": null,
   "id": "e4409cfb",
   "metadata": {},
   "outputs": [],
   "source": []
  }
 ],
 "metadata": {
  "kernelspec": {
   "display_name": "Python 3",
   "language": "python",
   "name": "python3"
  },
  "language_info": {
   "codemirror_mode": {
    "name": "ipython",
    "version": 3
   },
   "file_extension": ".py",
   "mimetype": "text/x-python",
   "name": "python",
   "nbconvert_exporter": "python",
   "pygments_lexer": "ipython3",
   "version": "3.8.8"
  }
 },
 "nbformat": 4,
 "nbformat_minor": 5
}
